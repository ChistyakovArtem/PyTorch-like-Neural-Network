{
 "nbformat": 4,
 "nbformat_minor": 0,
 "metadata": {
  "kernelspec": {
   "display_name": "Python 3",
   "language": "python",
   "name": "python3"
  },
  "language_info": {
   "codemirror_mode": {
    "name": "ipython",
    "version": 3
   },
   "file_extension": ".py",
   "mimetype": "text/x-python",
   "name": "python",
   "nbconvert_exporter": "python",
   "pygments_lexer": "ipython3",
   "version": "3.6.7"
  },
  "colab": {
   "name": "hw_backprop_new",
   "provenance": [],
   "collapsed_sections": []
  }
 },
 "cells": [
  {
   "cell_type": "markdown",
   "metadata": {
    "id": "qUulnIvKb8yr"
   },
   "source": [
    "## My Framework(copy)"
   ]
  },
  {
   "cell_type": "code",
   "metadata": {
    "id": "EP44XZgfc4Vx"
   },
   "source": [
    "import numpy as np"
   ],
   "execution_count": 1,
   "outputs": []
  },
  {
   "cell_type": "code",
   "metadata": {
    "id": "t65CLn1kc7kB"
   },
   "source": [
    "class Module():\n",
    "    def __init__(self):\n",
    "        self._train = True\n",
    "    \n",
    "    def forward(self, input):\n",
    "        raise NotImplementedError\n",
    "\n",
    "    def backward(self,input, grad_output):\n",
    "        raise NotImplementedError\n",
    "    \n",
    "    def parameters(self):\n",
    "        'Возвращает список собственных параметров.'\n",
    "        return []\n",
    "    \n",
    "    def grad_parameters(self):\n",
    "        'Возвращает список тензоров-градиентов для своих параметров.'\n",
    "        return []\n",
    "    \n",
    "    def train(self):\n",
    "        self._train = True\n",
    "    \n",
    "    def eval(self):\n",
    "        self._train = False"
   ],
   "execution_count": 2,
   "outputs": []
  },
  {
   "cell_type": "code",
   "metadata": {
    "id": "XBmP7UCkdJA9"
   },
   "source": [
    "class Sequential(Module):\n",
    "    def __init__ (self, *layers):\n",
    "        super().__init__()\n",
    "        self.layers = layers\n",
    "\n",
    "    def forward(self, input):\n",
    "        \"\"\"\n",
    "        Прогоните данные последовательно по всем слоям:\n",
    "        \n",
    "            y[0] = layers[0].forward(input)\n",
    "            y[1] = layers[1].forward(y_0)\n",
    "            ...\n",
    "            output = module[n-1].forward(y[n-2])   \n",
    "            \n",
    "        Это должен быть просто небольшой цикл: for layer in layers...\n",
    "        \n",
    "        Хранить выводы ещё раз не надо: они сохраняются внутри слоев после forward.\n",
    "        \"\"\"\n",
    "\n",
    "        for layer in self.layers:\n",
    "            input = layer.forward(input)\n",
    "\n",
    "        self.output = input\n",
    "        return self.output\n",
    "\n",
    "    def backward(self, input, grad_output):\n",
    "        \"\"\"\n",
    "        Backward -- это как forward, только наоборот. (с)\n",
    "        \n",
    "        Предназначение backward:\n",
    "        1. посчитать посчитать градиенты для собственных параметров\n",
    "        2. передать градиент относительно своего входа\n",
    "        \n",
    "        О своих параметрах модули сами позаботятся. Нам же нужно позаботиться о передачи градиента.\n",
    "         \n",
    "            g[n-1] = layers[n-1].backward(y[n-2], grad_output)\n",
    "            g[n-2] = layers[n-2].backward(y[n-3], g[n-1])\n",
    "            ...\n",
    "            g[1] = layers[1].backward(y[0], g[2])   \n",
    "            grad_input = layers[0].backward(input, g[1])\n",
    "        \n",
    "        Тут цикл будет уже чуть посложнее.\n",
    "        \"\"\"\n",
    "        \n",
    "        for i in range(len(self.layers)-1, 0, -1):\n",
    "            grad_output = self.layers[i].backward(self.layers[i-1].output, grad_output)\n",
    "        \n",
    "        grad_input = self.layers[0].backward(input, grad_output)\n",
    "        \n",
    "        return grad_input\n",
    "      \n",
    "    def parameters(self):\n",
    "        'Можно просто сконкатенировать все параметры в один список.'\n",
    "        res = []\n",
    "        for l in self.layers:\n",
    "            res += l.parameters()\n",
    "        return res\n",
    "    \n",
    "    def grad_parameters(self):\n",
    "        'Можно просто сконкатенировать все градиенты в один список.'\n",
    "        res = []\n",
    "        for l in self.layers:\n",
    "            res += l.grad_parameters()\n",
    "        return res\n",
    "    \n",
    "    def train(self):\n",
    "        for layer in self.layers:\n",
    "            layer.train()\n",
    "    \n",
    "    def eval(self):\n",
    "        for layer in self.layers:\n",
    "            layer.eval()"
   ],
   "execution_count": 3,
   "outputs": []
  },
  {
   "cell_type": "code",
   "metadata": {
    "id": "KZnkScAUdLUK"
   },
   "source": [
    "class Linear(Module):\n",
    "    def __init__(self, dim_in, dim_out):\n",
    "        super().__init__()\n",
    "        \n",
    "        # Xavier initialization: инциализируем так,\n",
    "        # что если на вход идет N(0, 1)\n",
    "        # то и на выходе должно идти N(0, 1)\n",
    "        stdv = 1./np.sqrt(dim_in)\n",
    "        self.W = np.random.uniform(-stdv, stdv, size=(dim_in, dim_out))\n",
    "        self.b = np.random.uniform(-stdv, stdv, size=dim_out)\n",
    "\n",
    "        self.grad_W = None\n",
    "        self.grad_b = None\n",
    "        \n",
    "    def forward(self, input):\n",
    "        self.output = np.dot(input, self.W) + self.b\n",
    "        return self.output\n",
    "    \n",
    "    def backward(self, input, grad_output):\n",
    "        self.grad_b = np.mean(grad_output, axis=0)\n",
    "        \n",
    "        #     in_dim x batch_size\n",
    "        self.grad_W = np.dot(input.T, grad_output)\n",
    "        #                 batch_size x out_dim\n",
    "        \n",
    "        grad_input = np.dot(grad_output, self.W.T)\n",
    "        \n",
    "        return grad_input\n",
    "    \n",
    "    def parameters(self):\n",
    "        return [self.W, self.b]\n",
    "    \n",
    "    def grad_parameters(self):\n",
    "        return [self.grad_W, self.grad_b]"
   ],
   "execution_count": 4,
   "outputs": []
  },
  {
   "cell_type": "code",
   "metadata": {
    "id": "013EdZFAdM8z"
   },
   "source": [
    "class ReLU(Module):\n",
    "    def __init__(self):\n",
    "         super().__init__()\n",
    "    \n",
    "    def forward(self, input):\n",
    "        self.output = np.maximum(input, 0)\n",
    "        return self.output\n",
    "    \n",
    "    def backward(self, input, grad_output):\n",
    "        grad_input = np.multiply(grad_output, input > 0)\n",
    "        return grad_input"
   ],
   "execution_count": 5,
   "outputs": []
  },
  {
   "cell_type": "code",
   "metadata": {
    "id": "ecCIdxzXdOiC"
   },
   "source": [
    "class LeakyReLU(Module):\n",
    "    def __init__(self, slope=0.03):\n",
    "        super().__init__()\n",
    "            \n",
    "        self.slope = slope\n",
    "        \n",
    "    def forward(self, input):\n",
    "        self.output = self.slope*input + (1 - self.slope) * np.maximum(input, 0)\n",
    "        return self.output\n",
    "    \n",
    "    def backward(self, input, grad_output):\n",
    "        grad_input = np.multiply(grad_output, input > 0) + np.multiply(grad_output * self.slope, input <= 0)\n",
    "        return grad_input"
   ],
   "execution_count": 6,
   "outputs": []
  },
  {
   "cell_type": "code",
   "metadata": {
    "id": "-xs8fb7xdSd_"
   },
   "source": [
    "class Sigmoid(Module):\n",
    "    def __init__(self):\n",
    "        super().__init__()\n",
    "\n",
    "    def forward(self, input):\n",
    "        self.output = 1 / (1 + np.exp(-input))\n",
    "        return self.output\n",
    "    \n",
    "    def backward(self, input, grad_output):\n",
    "        # grad_input = grad_output * (1 - grad_output)\n",
    "        grad_input = np.multiply(input * (1 - input), grad_output)\n",
    "        return grad_input"
   ],
   "execution_count": 7,
   "outputs": []
  },
  {
   "cell_type": "code",
   "metadata": {
    "id": "OAoirs-DdUFP"
   },
   "source": [
    "class SoftMax(Module):\n",
    "    def __init__(self):\n",
    "         super().__init__()\n",
    "    \n",
    "    def forward(self, input):\n",
    "        # важная деталь: если входы большие,\n",
    "        # то экспоненты будут ещё больше\n",
    "        input = np.subtract(input, input.max(axis=1, keepdims=True))\n",
    "        exps = np.exp(input)\n",
    "        self.output = np.true_divide(exps, np.sum(exps, axis=1)[:, None])\n",
    "        return self.output\n",
    "\n",
    "\n",
    "    def backward(self, input, grad_output):\n",
    "        # grad_input = []\n",
    "        # for i in range(input.shape[0]):\n",
    "        #     s = input[i,:].reshape(-1, 1)\n",
    "        #     j = np.diagflat(s) - np.dot(s, s.T)\n",
    "        #\n",
    "        #     grad_input.append((np.dot(j, grad_output[i,:].reshape(-1, 1))).reshape(input.shape[1], ))\n",
    "        #\n",
    "        # grad_input = np.array(grad_input) * (-1)\n",
    "\n",
    "        batch_size = input.shape[0]\n",
    "        s = self.output\n",
    "        grad_local = -s[..., None] * s[:, None, :]\n",
    "        iy, ix = np.diag_indices_from(grad_local[0])\n",
    "        grad_local[:, iy, ix] = s * (1 - s)\n",
    "        \n",
    "        for i in range(grad_local.shape[0]):\n",
    "            grad_local[i] = grad_local[i] * grad_output[i]\n",
    "    \n",
    "        grad_input = np.sum(grad_local, 2).reshape(batch_size, -1)\n",
    "        grad_input = grad_input\n",
    "        return grad_input"
   ],
   "execution_count": 8,
   "outputs": []
  },
  {
   "cell_type": "code",
   "metadata": {
    "id": "hdm80EqpTCAq"
   },
   "source": [
    "import torch\n",
    "import torch.nn as nn\n",
    "my_sm = SoftMax()\n",
    "torch_sm = nn.Softmax()"
   ],
   "execution_count": 9,
   "outputs": []
  },
  {
   "cell_type": "code",
   "metadata": {
    "colab": {
     "base_uri": "https://localhost:8080/"
    },
    "id": "yWaSeM5YUKSZ",
    "outputId": "e314631e-f398-4d4b-ce72-67e2d322e3c4"
   },
   "source": [
    "my_data = np.random.rand(10, 4) * 10\n",
    "torch_data = torch.tensor(my_data, requires_grad=True)\n",
    "print(my_data)\n",
    "print(torch_data)"
   ],
   "execution_count": 10,
   "outputs": [
    {
     "name": "stdout",
     "output_type": "stream",
     "text": [
      "[[7.99857425 4.14272636 1.57760739 9.28396214]\n",
      " [4.11652221 9.22542542 3.13429573 6.25558352]\n",
      " [3.07001547 9.65283887 9.97628568 6.4953895 ]\n",
      " [7.85529626 3.26301236 1.85977488 5.98119867]\n",
      " [5.20033705 2.87625926 6.67365089 6.671797  ]\n",
      " [4.52938588 2.70039111 1.65812207 4.50868548]\n",
      " [7.08790876 2.22121481 7.28401382 8.75943574]\n",
      " [8.79884045 9.68650432 5.04444082 1.98886208]\n",
      " [0.04530658 4.20360295 5.86464287 2.33034315]\n",
      " [7.94732027 8.0458791  0.30371116 0.17395883]]\n",
      "tensor([[7.9986, 4.1427, 1.5776, 9.2840],\n",
      "        [4.1165, 9.2254, 3.1343, 6.2556],\n",
      "        [3.0700, 9.6528, 9.9763, 6.4954],\n",
      "        [7.8553, 3.2630, 1.8598, 5.9812],\n",
      "        [5.2003, 2.8763, 6.6737, 6.6718],\n",
      "        [4.5294, 2.7004, 1.6581, 4.5087],\n",
      "        [7.0879, 2.2212, 7.2840, 8.7594],\n",
      "        [8.7988, 9.6865, 5.0444, 1.9889],\n",
      "        [0.0453, 4.2036, 5.8646, 2.3303],\n",
      "        [7.9473, 8.0459, 0.3037, 0.1740]], dtype=torch.float64,\n",
      "       requires_grad=True)\n"
     ]
    }
   ]
  },
  {
   "cell_type": "code",
   "metadata": {
    "colab": {
     "base_uri": "https://localhost:8080/"
    },
    "id": "qF-r2JajiNjt",
    "outputId": "b6bcc7af-c77e-4c20-878c-745e4298c147"
   },
   "source": [
    "torch_ans = torch_sm(torch_data)\n",
    "torch_ans"
   ],
   "execution_count": 11,
   "outputs": [
    {
     "name": "stderr",
     "output_type": "stream",
     "text": [
      "<ipython-input-11-1f94c3ae078b>:1: UserWarning: Implicit dimension choice for softmax has been deprecated. Change the call to include dim=X as an argument.\n",
      "  torch_ans = torch_sm(torch_data)\n"
     ]
    },
    {
     "data": {
      "text/plain": "tensor([[2.1557e-01, 4.5605e-03, 3.5075e-04, 7.7952e-01],\n        [5.7027e-03, 9.4374e-01, 2.1355e-03, 4.8424e-02],\n        [5.7051e-04, 4.1224e-01, 5.6966e-01, 1.7534e-02],\n        [8.5755e-01, 8.6867e-03, 2.1352e-03, 1.3163e-01],\n        [1.0186e-01, 9.9697e-03, 4.4450e-01, 4.4367e-01],\n        [4.5523e-01, 7.3098e-02, 2.5778e-02, 4.4590e-01],\n        [1.3254e-01, 1.0204e-03, 1.6126e-01, 7.0517e-01],\n        [2.8952e-01, 7.0338e-01, 6.7790e-03, 3.1926e-04],\n        [2.4299e-03, 1.5542e-01, 8.1827e-01, 2.3876e-02],\n        [4.7518e-01, 5.2440e-01, 2.2766e-04, 1.9995e-04]], dtype=torch.float64,\n       grad_fn=<SoftmaxBackward>)"
     },
     "execution_count": 11,
     "metadata": {},
     "output_type": "execute_result"
    }
   ]
  },
  {
   "cell_type": "code",
   "metadata": {
    "colab": {
     "base_uri": "https://localhost:8080/"
    },
    "id": "aCNX_3p0UjGk",
    "outputId": "9c083f6d-9e08-473c-8247-e26138406eb7"
   },
   "source": [
    "t = torch.sum(torch_ans)\n",
    "t"
   ],
   "execution_count": 12,
   "outputs": [
    {
     "data": {
      "text/plain": "tensor(10., dtype=torch.float64, grad_fn=<SumBackward0>)"
     },
     "execution_count": 12,
     "metadata": {},
     "output_type": "execute_result"
    }
   ]
  },
  {
   "cell_type": "code",
   "metadata": {
    "colab": {
     "base_uri": "https://localhost:8080/"
    },
    "id": "QPMTNErIWkwj",
    "outputId": "5a45e9e2-9319-4231-fa1a-1c9546f044f2"
   },
   "source": [
    "t.grad_fn"
   ],
   "execution_count": 13,
   "outputs": [
    {
     "data": {
      "text/plain": "<SumBackward0 at 0x16261997850>"
     },
     "execution_count": 13,
     "metadata": {},
     "output_type": "execute_result"
    }
   ]
  },
  {
   "cell_type": "code",
   "metadata": {
    "id": "VXV7Of0VX8bB"
   },
   "source": [
    "t.backward()"
   ],
   "execution_count": 14,
   "outputs": []
  },
  {
   "cell_type": "code",
   "metadata": {
    "id": "3GAzMyn4X_JF",
    "colab": {
     "base_uri": "https://localhost:8080/"
    },
    "outputId": "bb62b5d8-516a-4f0b-b00d-f94a26c6ce1f"
   },
   "source": [
    "t.grad"
   ],
   "execution_count": 15,
   "outputs": [
    {
     "name": "stderr",
     "output_type": "stream",
     "text": [
      "<ipython-input-15-a758b9e683bd>:1: UserWarning: The .grad attribute of a Tensor that is not a leaf Tensor is being accessed. Its .grad attribute won't be populated during autograd.backward(). If you indeed want the gradient for a non-leaf Tensor, use .retain_grad() on the non-leaf Tensor. If you access the non-leaf Tensor by mistake, make sure you access the leaf Tensor instead. See github.com/pytorch/pytorch/pull/30531 for more information.\n",
      "  t.grad\n"
     ]
    }
   ]
  },
  {
   "cell_type": "code",
   "execution_count": 16,
   "outputs": [
    {
     "data": {
      "text/plain": "(10,)"
     },
     "execution_count": 16,
     "metadata": {},
     "output_type": "execute_result"
    }
   ],
   "source": [
    "np.random.binomial(1, 0.9, size=[10]).shape"
   ],
   "metadata": {
    "collapsed": false,
    "pycharm": {
     "name": "#%%\n"
    }
   }
  },
  {
   "cell_type": "code",
   "metadata": {
    "id": "a3pJHZg2dV51"
   },
   "source": [
    "class Dropout(Module):\n",
    "    def __init__(self, drop_probability=0.5):\n",
    "        super().__init__()\n",
    "\n",
    "        self.output = None\n",
    "        self.proba_zero = drop_probability\n",
    "        self.proba_one = 1 - drop_probability\n",
    "\n",
    "        self.mask = None\n",
    "\n",
    "    def forward(self, input):\n",
    "        if self._train:\n",
    "            self.mask = np.repeat(np.random.binomial(1, p=self.proba_one,\n",
    "                                                     size=[input.shape[0], 1]), input.shape[1], axis=1)\n",
    "            self.output = input * self.mask\n",
    "        else:\n",
    "            self.output = input * self.proba_one\n",
    "        return self.output\n",
    "    \n",
    "    def backward(self, input, grad_output):\n",
    "        if self._train:\n",
    "            grad_input = self.mask * grad_output * (1 / self.proba_one)\n",
    "        else:\n",
    "            grad_input = None\n",
    "        return grad_input"
   ],
   "execution_count": 17,
   "outputs": []
  },
  {
   "cell_type": "code",
   "metadata": {
    "id": "WA52MPwydXwf"
   },
   "source": [
    "class BatchNorm(Module):\n",
    "    def __init__(self, gamma, momentum=1):\n",
    "        super().__init__()\n",
    "        self.gamma = gamma\n",
    "        self.mu = 0\n",
    "        self.sigma = 1\n",
    "        self.bias = np.random.uniform(low=-1, high=1)\n",
    "        self.eps = 1e-8\n",
    "        self.momentum = momentum\n",
    "    \n",
    "    def forward(self, input):\n",
    "        if self._train:\n",
    "            new_mu = np.mean(input, axis=0)\n",
    "            new_sigma = np.var(input, axis=0)\n",
    "\n",
    "            self.input_norm = (input - new_mu) / np.sqrt(new_sigma + self.eps)\n",
    "            self.output = self.gamma * self.input_norm + self.bias\n",
    "\n",
    "            self.mu = (1 - self.momentum) * self.mu + self.momentum * new_mu\n",
    "            self.sigma = (1 - self.momentum) * self.sigma + self.momentum * new_sigma\n",
    "        else:\n",
    "            input_norm = (input - self.mu) / np.sqrt(self.sigma + self.eps)\n",
    "            self.output = self.gamma * input_norm + self.bias\n",
    "\n",
    "        return self.output\n",
    "    \n",
    "    def backward(self, input, grad_output):\n",
    "        if self._train:\n",
    "            self.grad_bias = np.sum(grad_output, axis=0)\n",
    "            self.grad_gamma = np.sum(grad_output*self.input_norm, axis=0)\n",
    "\n",
    "            m = input.shape[0]\n",
    "            t = 1./np.sqrt(self.sigma + self.eps)\n",
    "\n",
    "            grad_input = (self.gamma * t / m) * (m * grad_output - np.sum(grad_output, axis=0) \n",
    "            - t**2 * (input - self.mu) * np.sum(grad_output*(grad_output - self.mu), axis=0))\n",
    "        else:\n",
    "            grad_input = None\n",
    "        return grad_input\n",
    "\n",
    "    def parameters(self):\n",
    "        return [self.bias, self.gamma]\n",
    "\n",
    "    def grad_parameters(self):\n",
    "        return [self.grad_bias, self.grad_gamma]"
   ],
   "execution_count": 18,
   "outputs": []
  },
  {
   "cell_type": "code",
   "metadata": {
    "id": "p0VWFJkrdZQo"
   },
   "source": [
    "class Criterion:\n",
    "    def forward(self, input, target):\n",
    "        raise NotImplementedError\n",
    "\n",
    "    def backward(self, input, target):\n",
    "        raise NotImplementedError"
   ],
   "execution_count": 19,
   "outputs": []
  },
  {
   "cell_type": "code",
   "execution_count": 20,
   "outputs": [],
   "source": [
    "class MSE(Criterion):\n",
    "    def forward(self, input, target):\n",
    "        batch_size = input.shape[0]\n",
    "        self.output = np.sum(np.power(input - target, 2)) / batch_size\n",
    "        return self.output\n",
    "\n",
    "    def backward(self, input, target):\n",
    "        grad_input = (input - target) * 2 / input.shape[0]\n",
    "        return grad_input"
   ],
   "metadata": {
    "collapsed": false,
    "pycharm": {
     "name": "#%%\n"
    }
   }
  },
  {
   "cell_type": "code",
   "execution_count": 21,
   "outputs": [],
   "source": [
    "class CrossEntropy(Criterion):\n",
    "    def __init__(self):\n",
    "        super().__init__()\n",
    "\n",
    "    def forward(self, input, target):\n",
    "        # чтобы нигде не было взятий логарифма от нуля:\n",
    "        eps = 1e-3\n",
    "        input_clamp = np.clip(input, eps, 1 - eps)\n",
    "\n",
    "        self.output = np.mean(np.sum(target * np.log(input_clamp), axis=1), axis=None)\n",
    "        return self.output\n",
    "\n",
    "    def backward(self, input, target):\n",
    "        eps = 1e-3\n",
    "        input_clamp = np.clip(input, eps, 1 - eps)\n",
    "\n",
    "        grad_input = input_clamp - target\n",
    "        return grad_input"
   ],
   "metadata": {
    "collapsed": false,
    "pycharm": {
     "name": "#%%\n"
    }
   }
  },
  {
   "cell_type": "code",
   "execution_count": 22,
   "outputs": [],
   "source": [
    "class Optimizer:\n",
    "    def __init__(self):\n",
    "        pass\n",
    "\n",
    "    def step(self, params, gradients):\n",
    "        pass"
   ],
   "metadata": {
    "collapsed": false,
    "pycharm": {
     "name": "#%%\n"
    }
   }
  },
  {
   "cell_type": "code",
   "execution_count": 23,
   "outputs": [],
   "source": [
    "class SGD(Optimizer):\n",
    "    def __init__(self, learning_rate_init=1e-3):\n",
    "        super().__init__()\n",
    "        self.learning_rate = learning_rate_init\n",
    "\n",
    "    def step(self, params, gradients):\n",
    "        for weights, gradient in zip(params, gradients):\n",
    "            weights -= self.learning_rate * gradient"
   ],
   "metadata": {
    "collapsed": false,
    "pycharm": {
     "name": "#%%\n"
    }
   }
  },
  {
   "cell_type": "code",
   "execution_count": 24,
   "outputs": [],
   "source": [
    "class Adam(Optimizer):\n",
    "    def __init__(self, b1=0.9, b2=0.999, epsilon=1e-5, learning_rate_init=1e-3):\n",
    "        super().__init__()\n",
    "        self.num_optimizers = None\n",
    "        self.learning_rate = learning_rate_init\n",
    "        self.b1 = b1\n",
    "        self.b2 = b2\n",
    "        self.epsilon = epsilon\n",
    "        self.total_calls = 1\n",
    "\n",
    "        self.m = None\n",
    "        self.v = None\n",
    "\n",
    "    def step(self, params, gradients):\n",
    "        it = 0\n",
    "        if self.m is None:\n",
    "            self.m = [0] * len(params)\n",
    "            self.v = [0] * len(params)\n",
    "\n",
    "        for weights, gradient in zip(params, gradients):\n",
    "            self.m[it] = self.b1 * self.m[it] + (1 - self.b1) * gradient\n",
    "            self.v[it] = self.b2 * self.v[it] + (1 - self.b2) * gradient**2\n",
    "\n",
    "            m_hat = self.m[it] / (1 - np.power(self.b1, self.total_calls))\n",
    "            v_hat = self.v[it] / (1 - np.power(self.b2, self.total_calls))\n",
    "\n",
    "            weights -= self.learning_rate * m_hat / (np.sqrt(v_hat) + self.epsilon)\n",
    "\n",
    "            it += 1\n",
    "\n",
    "        self.total_calls += 1"
   ],
   "metadata": {
    "collapsed": false,
    "pycharm": {
     "name": "#%%\n"
    }
   }
  },
  {
   "cell_type": "markdown",
   "source": [
    "# Backprop своими руками"
   ],
   "metadata": {
    "collapsed": false
   }
  },
  {
   "cell_type": "markdown",
   "source": [
    "Материалы:\n",
    "\n",
    "* [Andrew Karpahy: yes, you should understand backprop](https://medium.com/@karpathy/yes-you-should-understand-backprop-e2f06eab496b)\n",
    "* [Stanford CS231n](http://cs231n.stanford.edu/)\n",
    "* [Deep Learning](http://sereja.me/f/deep_learning_goodfellow.pdf) — с 204 страницы и до прозрения\n",
    "* [Xavier, Bengio](http://proceedings.mlr.press/v9/glorot10a/glorot10a.pdf)"
   ],
   "metadata": {
    "collapsed": false
   }
  },
  {
   "cell_type": "markdown",
   "source": [
    "<img width='800px' src='https://cdn-images-1.medium.com/max/1600/1*q1M7LGiDTirwU-4LcFq7_Q.png'>"
   ],
   "metadata": {
    "collapsed": false
   }
  },
  {
   "cell_type": "markdown",
   "source": [
    "Иногда сети пишут на чистом C++, причём код для обучения и инференса (реального прогона в продакшне) — отдельно. Так делают, когда нужен очень быстрый отклик и высокая производительность, но это очень трудоемко.\n",
    "\n",
    "Большинство людей не усложняют себе жизнь и просто используют фреймворки — с ними можно просто почти декларативно описать, какие операции хотите сделать с данными, а он потом сам построит сеть и подгонит её под данные.\n",
    "\n",
    "Ваше задание — реализовать свой небольшой фреймворк глубокого обучения на чистом `numpy`. Основное время у вас должно уйти на вывод формул для градиентов, анализ поведения самых часто используемых слоев в современных нейросетях и прочий матан. Хотя бы один раз в жизни это надо сделать, а уже потом пользоваться готовыми абстракциями."
   ],
   "metadata": {
    "collapsed": false
   }
  },
  {
   "cell_type": "markdown",
   "source": [
    "Предполагаемый порядок выполнения:\n",
    "* Поймите на высоком уровне, как работает алгоритм backpropagation\n",
    "* Изучите пример с логиситической регрессией, чтобы понять, что от вас в итоге хотят\n",
    "* Изучите код `Module`\n",
    "* `Sequential`\n",
    "* `Linear`\n",
    "* `SoftMax`\n",
    "* `CrossEntropy`\n",
    "* Протестируйте их на логситической регрессии\n",
    "* Напишите код для решения MNIST\n",
    "* Дописывайте остальные слои, пока не получите на нём 97%"
   ],
   "metadata": {
    "collapsed": false
   }
  },
  {
   "cell_type": "markdown",
   "source": [
    "Оценивание (суммарно до 20 баллов):\n",
    "* 5 баллов -- что-то хоть как-то обучается, MNIST на валидации >90%\n",
    "* 2 балла -- MNIST на 95%, дальше по одному баллу за 96%, 97% и 98%. Это будет сделать намного сложнее, чем через PyTorch, потому что вам всё нужно писать самим: более сложные оптимизаторы, learning rate decay, думать про численную стабильность и т. д.\n",
    "* По 2 балла за слои: LeakyReLU, Dropout, BatchNorm, CrossEntropy, SoftMax"
   ],
   "metadata": {
    "collapsed": false
   }
  },
  {
   "cell_type": "markdown",
   "source": [
    "Советы:\n",
    "* Чтобы лучше понять, что должно в итоге получиться, изучите «игрушечный пример» и вообще эту тетрадку, а потом начните читать `hw_framework.py`, где будет более техничное описание.\n",
    "* Для дебага проверяйте градиенты численно — сдвигайте параметры на какой-нибудь эпсилон и смотрите разницу. Ещё можете проверить, что на одинаковых данных они дают то же, что их эквиваленты из PyTorch (можно после каждого нового слоя добавить юнит тест через `assert`).\n",
    "* Пишите код без циклов — в питоне они очень долгие; все вычисления можно делать внутри numpy.\n",
    "* Ограничение на срок сдачи большое — до конца всего курса, но рекомендуется закончить примерно за месяц. Дописывайте его постепенно, разбираясь, как работает каждая функция активации.\n",
    "* Обсуждайте математику и общую архитектуру фреймворка, но не шарьте друг другу код — так не интересно."
   ],
   "metadata": {
    "collapsed": false
   }
  },
  {
   "cell_type": "code",
   "execution_count": 25,
   "outputs": [],
   "source": [
    "import numpy as np\n",
    "import matplotlib.pyplot as plt"
   ],
   "metadata": {
    "collapsed": false,
    "pycharm": {
     "name": "#%%\n"
    }
   }
  },
  {
   "cell_type": "markdown",
   "source": [
    "---"
   ],
   "metadata": {
    "collapsed": false
   }
  },
  {
   "cell_type": "markdown",
   "source": [
    "Откройте в Jupyter две тетрадки — эту и `hw_framework.ipynb`. В этой содержится train loop, а там непосредственно ваш «фреймворк», который вам ещё предстоит написать.\n",
    "\n",
    "Архитектура фреймворка вдохновлена PyTorch. Как всегда, если придумаете какой-то более клёвый дизайн — можете использовать его."
   ],
   "metadata": {
    "collapsed": false
   }
  },
  {
   "cell_type": "code",
   "execution_count": 26,
   "outputs": [],
   "source": [
    "#%run hw_framework.ipynb"
   ],
   "metadata": {
    "collapsed": false,
    "pycharm": {
     "name": "#%%\n"
    }
   }
  },
  {
   "cell_type": "markdown",
   "source": [
    "Мы будем использовать самый простой вариант градиентного спуска: просто пройдемся по всем параметрам и сделаем шаги в сторону уменьшения посчитанного заранее градиента.\n",
    "\n",
    "Есть [более продвинутые методы](http://ruder.io/optimizing-gradient-descent/), но пока что мы их использовать не будем."
   ],
   "metadata": {
    "collapsed": false
   }
  },
  {
   "cell_type": "code",
   "metadata": {
    "id": "pOZs3Sk8DcJ2"
   },
   "source": [
    "def grad_clipping(gradients, max_clip=1):\n",
    "    # ans = []\n",
    "    for gradient in gradients:\n",
    "        gradient.clip(0, 0)\n",
    "    # return ans"
   ],
   "execution_count": 27,
   "outputs": []
  },
  {
   "cell_type": "markdown",
   "metadata": {
    "id": "PfBYatsKocWh"
   },
   "source": [
    "Cоздадим обертку вокруг нашего датасета (просто numpy-евские массивы), которую будем потом использовать, чтобы итерироваться по нему."
   ]
  },
  {
   "cell_type": "code",
   "metadata": {
    "id": "jDmJKg8hocWi"
   },
   "source": [
    "def loader(X, Y, batch_size):    \n",
    "    n = X.shape[0]\n",
    "\n",
    "    # в начале каждой эпохи будем всё перемешивать\n",
    "    # важно, что мы пермешиваем индексы, а не X\n",
    "    indices = np.arange(n)\n",
    "    np.random.shuffle(indices)\n",
    "    \n",
    "    for start in range(0, n, batch_size):\n",
    "        # в конце нам, возможно, нужно взять неполный батч\n",
    "        end = min(start + batch_size, n)\n",
    "        \n",
    "        batch_idx = indices[start:end]\n",
    "    \n",
    "        yield X[batch_idx], Y[batch_idx]"
   ],
   "execution_count": 28,
   "outputs": []
  },
  {
   "cell_type": "markdown",
   "metadata": {
    "id": "yMcWZrUPocWm"
   },
   "source": [
    "В следующих двух секциях — игрушечные примеры регрессии и классификации на синтезированных данных. В них ничего менять не надо — они нужны, чтобы отдебажить ваши слои в `hw_framework`."
   ]
  },
  {
   "cell_type": "markdown",
   "metadata": {
    "id": "MLPP2pyMocWn"
   },
   "source": [
    "# Линейная регрессия"
   ]
  },
  {
   "cell_type": "code",
   "metadata": {
    "scrolled": true,
    "id": "i2oHX9NQocWo",
    "colab": {
     "base_uri": "https://localhost:8080/"
    },
    "outputId": "6a9f9ba2-ab9a-4e87-84c2-200b7a5ce768"
   },
   "source": [
    "n = 1000\n",
    "\n",
    "X = np.random.randn(n, 10)\n",
    "true_w = np.random.randn(10, 1)\n",
    "Y = (np.dot(X, true_w).reshape(n) + np.random.randn(n)/5).reshape(n, 1)\n",
    "\n",
    "print('best_possible_mse:', np.mean(np.power(Y-np.dot(X, true_w).reshape(n), 2)))"
   ],
   "execution_count": 29,
   "outputs": [
    {
     "name": "stdout",
     "output_type": "stream",
     "text": [
      "best_possible_mse: 9.313211477050203\n"
     ]
    }
   ]
  },
  {
   "cell_type": "markdown",
   "metadata": {
    "id": "gu4bulrKocWs"
   },
   "source": [
    "### Модель"
   ]
  },
  {
   "cell_type": "code",
   "metadata": {
    "id": "4O4m1wH2o15J"
   },
   "source": [
    "epochs = 20\n",
    "batch_size = 1000\n",
    "learning_rate = 1e-2"
   ],
   "execution_count": 42,
   "outputs": []
  },
  {
   "cell_type": "code",
   "metadata": {
    "id": "iK6EdY0-LVfG"
   },
   "source": [
    "def block(input_size, output_size):\n",
    "    return Sequential(\n",
    "        Linear(input_size, output_size),\n",
    "        LeakyReLU(),\n",
    "        #Dropout(drop_probability=0.2)\n",
    "    )"
   ],
   "execution_count": 43,
   "outputs": []
  },
  {
   "cell_type": "code",
   "metadata": {
    "id": "YFSKPjVNBE4U",
    "pycharm": {
     "name": "#%%\n"
    }
   },
   "source": [
    "model = Sequential(\n",
    "    block(10, 700),\n",
    "    block(700, 500),\n",
    "    block(500, 300),\n",
    "    block(300, 100),\n",
    "    block(100, 30),\n",
    "    block(30, 10),\n",
    "    Linear(10, 1)\n",
    ")\n",
    "\n",
    "criterion = MSE()"
   ],
   "execution_count": 44,
   "outputs": []
  },
  {
   "cell_type": "code",
   "execution_count": 45,
   "outputs": [],
   "source": [
    "# model = Sequential(\n",
    "#     Linear(10, 1)\n",
    "# )"
   ],
   "metadata": {
    "collapsed": false,
    "pycharm": {
     "name": "#%%\n"
    }
   }
  },
  {
   "cell_type": "code",
   "execution_count": 46,
   "outputs": [],
   "source": [
    "optimizer = Adam(learning_rate_init=learning_rate)"
   ],
   "metadata": {
    "collapsed": false,
    "pycharm": {
     "name": "#%%\n"
    }
   }
  },
  {
   "cell_type": "markdown",
   "metadata": {
    "id": "dsdkT55BocWx"
   },
   "source": [
    "Можете тут потом тестировать остальные свои слои, когда их напишите."
   ]
  },
  {
   "cell_type": "markdown",
   "metadata": {
    "id": "G6cJy-nOocWy",
    "pycharm": {
     "name": "#%% md\n"
    }
   },
   "source": [
    "### Обучение"
   ]
  },
  {
   "cell_type": "code",
   "execution_count": 47,
   "outputs": [],
   "source": [
    "def criterion_xy_loss(model, X, y_true):\n",
    "    model.eval()\n",
    "    y_pred = model.forward(X)\n",
    "    return criterion.forward(y_pred, y_true)"
   ],
   "metadata": {
    "collapsed": false,
    "pycharm": {
     "name": "#%%\n"
    }
   }
  },
  {
   "cell_type": "code",
   "metadata": {
    "id": "8NHCVPRiocW4",
    "colab": {
     "base_uri": "https://localhost:8080/",
     "height": 295
    },
    "outputId": "1de2ce6b-1270-4b6c-affc-174089b39a34"
   },
   "source": [
    "history = []\n",
    "\n",
    "for i in range(1000):\n",
    "    for x, y_true in loader(X, Y, batch_size):\n",
    "        # forward -- считаем все значения до функции потерь\n",
    "        model.train()\n",
    "\n",
    "        y_pred = model.forward(x)\n",
    "        loss = criterion.forward(y_pred, y_true)\n",
    "        \n",
    "        #print(y_pred, y_true)\n",
    "        #print('SUM OF SQUARES:', np.mean(np.power(y_pred-y_true, 2)))\n",
    "    \n",
    "        # backward -- считаем все градиенты в обратном порядке\n",
    "        grad = criterion.backward(y_pred, y_true)\n",
    "        model.backward(x, grad)\n",
    "        \n",
    "        # обновляем веса\n",
    "        grad_clipping(model.grad_parameters(), max_clip=0)\n",
    "        optimizer.step(model.parameters(),\n",
    "                       model.grad_parameters())\n",
    "\n",
    "\n",
    "        history.append(criterion_xy_loss(model, x, y_true))\n",
    "    \n",
    "    print(i, history[-1])\n",
    "\n",
    "    \n",
    "plt.title(\"Training loss\")\n",
    "plt.xlabel(\"iteration\")\n",
    "plt.ylabel(\"loss\")\n",
    "plt.plot(history[:], 'b')\n",
    "plt.show()"
   ],
   "execution_count": 48,
   "outputs": [
    {
     "name": "stdout",
     "output_type": "stream",
     "text": [
      "0 4.5629999323227715\n",
      "1 3.1102229685414122\n",
      "2 3.9182035078666035\n",
      "3 1.643893148892721\n",
      "4 0.8098473371093219\n",
      "5 0.5791393843439507\n",
      "6 0.16776535536660744\n",
      "7 0.6220347237732947\n",
      "8 0.3337940741840468\n",
      "9 0.45834185245992776\n",
      "10 0.5439261404196818\n",
      "11 0.24304324453990195\n",
      "12 0.21367564217746488\n",
      "13 0.2673230910862635\n",
      "14 0.1905737204567452\n",
      "15 0.09878200559210308\n",
      "16 0.21929910989096305\n",
      "17 0.1599732505336313\n",
      "18 0.09565636435601235\n",
      "19 0.13723779630239147\n",
      "20 0.12161803699777377\n",
      "21 0.10409196803422738\n",
      "22 0.059222996929804574\n",
      "23 0.10703860860718391\n",
      "24 0.09299835675927662\n",
      "25 0.04800644134528976\n",
      "26 0.07472412836589455\n",
      "27 0.0725049456473668\n",
      "28 0.06483270914708043\n",
      "29 0.05359749062963947\n",
      "30 0.057464943008096785\n",
      "31 0.07066714928019226\n",
      "32 0.043056752343006995\n",
      "33 0.047319907525174044\n",
      "34 0.0580239163782078\n",
      "35 0.043574510837530514\n",
      "36 0.04389922434908\n",
      "37 0.04347028664295915\n",
      "38 0.047918920643957946\n",
      "39 0.04138479081917175\n",
      "40 0.03654604347918513\n",
      "41 0.04649727328740098\n",
      "42 0.03827555381659699\n",
      "43 0.03657519846516252\n",
      "44 0.04010100484488645\n",
      "45 0.037600191219003924\n",
      "46 0.03626595150696194\n",
      "47 0.03421707018319805\n",
      "48 0.03759945993391528\n",
      "49 0.0343141063835747\n",
      "50 0.03275091471133051\n",
      "51 0.03600460028909094\n",
      "52 0.03308078507708988\n",
      "53 0.03273972886025463\n",
      "54 0.03312064777882685\n",
      "55 0.032868918401638296\n",
      "56 0.03161216227994757\n",
      "57 0.03136814579062428\n",
      "58 0.032367643484023254\n",
      "59 0.030272331461603668\n",
      "60 0.030900685614202013\n",
      "61 0.03095306498839299\n",
      "62 0.030029089019046423\n",
      "63 0.030062212944903664\n",
      "64 0.02999148069713604\n",
      "65 0.02971054015683369\n",
      "66 0.028975999421058142\n",
      "67 0.02955576445693842\n",
      "68 0.028771451671575122\n",
      "69 0.0286472221597742\n",
      "70 0.028735196020793972\n",
      "71 0.028328370475952512\n",
      "72 0.02813575255402572\n",
      "73 0.02806836148007045\n",
      "74 0.027882764284125762\n",
      "75 0.027477218095526282\n",
      "76 0.0276474603885259\n",
      "77 0.027229754642583932\n",
      "78 0.027146433235412087\n",
      "79 0.02702831078158333\n",
      "80 0.026833732611611885\n",
      "81 0.026624445587710946\n",
      "82 0.02658436595444845\n",
      "83 0.026333587471198742\n",
      "84 0.026194149351584223\n",
      "85 0.026109858740343047\n",
      "86 0.02586706399215004\n",
      "87 0.025769678007606548\n",
      "88 0.025620708449948352\n",
      "89 0.02544983261374892\n",
      "90 0.025311221467053193\n",
      "91 0.025193636438143957\n",
      "92 0.02499076347591844\n",
      "93 0.02490345176769533\n",
      "94 0.024724554507104295\n",
      "95 0.024591125424722093\n",
      "96 0.02445538658041395\n",
      "97 0.024309468029401298\n",
      "98 0.02415893327467019\n",
      "99 0.024040498538505952\n",
      "100 0.023868838818435344\n",
      "101 0.02375207079507984\n",
      "102 0.02359958308019759\n",
      "103 0.023461026292470998\n",
      "104 0.023324757697649388\n",
      "105 0.023183053568038056\n",
      "106 0.023041176327996935\n",
      "107 0.022904964362965543\n",
      "108 0.022753873006178652\n",
      "109 0.02261955859942779\n",
      "110 0.022470962619295997\n",
      "111 0.02233146736648417\n",
      "112 0.02218736204132722\n",
      "113 0.022040792016138802\n",
      "114 0.021897007453922836\n",
      "115 0.021748244592555675\n",
      "116 0.021605800124806444\n",
      "117 0.021454115179753437\n",
      "118 0.021309096285949927\n",
      "119 0.02116213907114553\n",
      "120 0.021016111432878574\n",
      "121 0.02086972389318737\n",
      "122 0.02072036855547182\n",
      "123 0.02057184468815076\n",
      "124 0.02042038071121653\n",
      "125 0.02027080866969457\n",
      "126 0.020116027696979157\n",
      "127 0.019962737880576766\n",
      "128 0.019806669780951438\n",
      "129 0.019652085374649686\n",
      "130 0.019496024216937448\n",
      "131 0.019341933264591972\n",
      "132 0.01918524202584186\n",
      "133 0.01902763421109962\n",
      "134 0.018868199861749046\n",
      "135 0.018710935801405617\n",
      "136 0.018551410017818376\n",
      "137 0.018388662456870705\n",
      "138 0.018230059276497415\n",
      "139 0.018070708553868848\n",
      "140 0.017911748311610118\n",
      "141 0.01775359869744191\n",
      "142 0.017593597414522915\n",
      "143 0.01743756072020362\n",
      "144 0.017282135908239567\n",
      "145 0.017121271631706878\n",
      "146 0.016958863305060738\n",
      "147 0.016807114299266075\n",
      "148 0.01665603002678366\n",
      "149 0.016489982047796996\n",
      "150 0.016332652038703446\n",
      "151 0.016182213769019488\n",
      "152 0.01602384562880106\n",
      "153 0.01585926024532646\n",
      "154 0.01570481165147059\n",
      "155 0.01556111036829037\n",
      "156 0.015401879013411819\n",
      "157 0.015235671032986231\n",
      "158 0.015076182874908122\n",
      "159 0.01492385574087017\n",
      "160 0.014773956876415728\n",
      "161 0.014625044875635887\n",
      "162 0.014471839298978701\n",
      "163 0.014315601044060681\n",
      "164 0.014153424212859794\n",
      "165 0.014000696903727532\n",
      "166 0.013843586380263272\n",
      "167 0.013694953292779328\n",
      "168 0.013547426002147558\n",
      "169 0.013409868969823076\n",
      "170 0.013272354075453865\n",
      "171 0.013143737091093451\n",
      "172 0.012996037700454233\n",
      "173 0.012793652956538875\n",
      "174 0.012629834452471704\n",
      "175 0.012465341912211322\n",
      "176 0.012309863583114165\n",
      "177 0.012157168496233058\n",
      "178 0.012012101670796704\n",
      "179 0.011861918725250054\n",
      "180 0.011715295311096764\n",
      "181 0.011604128357198934\n",
      "182 0.011687553395856354\n",
      "183 0.012075702586825414\n",
      "184 0.012655328139502615\n",
      "185 0.011380860491786545\n",
      "186 0.011371604180369971\n",
      "187 0.011854081825732133\n",
      "188 0.01060915078425504\n",
      "189 0.011180046302423488\n",
      "190 0.011233079998368714\n",
      "191 0.01035278804585014\n",
      "192 0.011195234786428677\n",
      "193 0.010596397447930296\n",
      "194 0.009990134771508657\n",
      "195 0.010495808844730056\n",
      "196 0.009583926328564984\n",
      "197 0.0096890525716426\n",
      "198 0.009643022159426745\n",
      "199 0.009030130326368497\n",
      "200 0.009292842243725822\n",
      "201 0.008933761277719337\n",
      "202 0.008807313417916721\n",
      "203 0.009128891776182422\n",
      "204 0.00918052489114326\n",
      "205 0.010518959692234642\n",
      "206 0.011528625818613466\n",
      "207 0.01272721827561838\n",
      "208 0.010749399113664269\n",
      "209 0.008413616898089851\n",
      "210 0.007899184923274185\n",
      "211 0.009432480629041243\n",
      "212 0.01080109278352931\n",
      "213 0.009544677072665849\n",
      "214 0.007926653667209382\n",
      "215 0.007232219008584078\n",
      "216 0.008208805654776963\n",
      "217 0.009279727428127183\n",
      "218 0.00839417016943095\n",
      "219 0.007330717265127639\n",
      "220 0.006639330231427474\n",
      "221 0.0068341143332078455\n",
      "222 0.007585717163556632\n",
      "223 0.0077108067894522715\n",
      "224 0.00747882313452372\n",
      "225 0.0066009774098596315\n",
      "226 0.00603177654192518\n",
      "227 0.005925680526118776\n",
      "228 0.006141036582321916\n",
      "229 0.006617401598627321\n",
      "230 0.0067886867628118705\n",
      "231 0.006822887569222137\n",
      "232 0.006270829769511086\n",
      "233 0.005823019390629888\n",
      "234 0.005322581873207539\n",
      "235 0.005054908209242681\n",
      "236 0.005018587412739561\n",
      "237 0.005159256162288454\n",
      "238 0.005593944277445858\n",
      "239 0.006310701537183562\n",
      "240 0.008192324157902846\n",
      "241 0.00947772400756308\n",
      "242 0.01187021195937778\n",
      "243 0.010041475528154509\n",
      "244 0.008053540567007083\n",
      "245 0.005078723085803039\n",
      "246 0.004456837072422777\n",
      "247 0.00596435579242879\n",
      "248 0.007416885600973155\n",
      "249 0.008557108364237355\n",
      "250 0.006863911774586379\n",
      "251 0.005030675069041686\n",
      "252 0.003920707391245323\n",
      "253 0.004382959306119711\n",
      "254 0.005791364054202562\n",
      "255 0.006541981075172856\n",
      "256 0.007278270020918596\n",
      "257 0.005985121050158771\n",
      "258 0.004580247660907368\n",
      "259 0.003545955386397906\n",
      "260 0.0036567429863500526\n",
      "261 0.004563623178771678\n",
      "262 0.005234557776953642\n",
      "263 0.0058064001064047285\n",
      "264 0.005261006081215639\n",
      "265 0.004593609516066903\n",
      "266 0.003673907573224405\n",
      "267 0.003083343364126311\n",
      "268 0.003029360399458348\n",
      "269 0.003426846253229516\n",
      "270 0.004135457624276619\n",
      "271 0.00491982231131361\n",
      "272 0.006155221912597901\n",
      "273 0.006656149956088761\n",
      "274 0.007720164817754086\n",
      "275 0.006765102114678148\n",
      "276 0.0061085415631326025\n",
      "277 0.00412559992799449\n",
      "278 0.002858563311880458\n",
      "279 0.002550187813481676\n",
      "280 0.003138288546057928\n",
      "281 0.004129834966021855\n",
      "282 0.004582533574221103\n",
      "283 0.005120353972245516\n",
      "284 0.004685420695207708\n",
      "285 0.0045519123589759635\n",
      "286 0.004073179872498864\n",
      "287 0.003590170165874149\n",
      "288 0.0030203151950092904\n",
      "289 0.0023768496649006895\n",
      "290 0.0020714365557772123\n",
      "291 0.00222762491058635\n",
      "292 0.002628570788694434\n",
      "293 0.0030788990792392423\n",
      "294 0.003587488307094609\n",
      "295 0.004445049480707507\n",
      "296 0.0071106301694117535\n",
      "297 0.009924136026339016\n",
      "298 0.017787401998772233\n",
      "299 0.016871572455773875\n",
      "300 0.018542692110027723\n",
      "301 0.008755748826815424\n",
      "302 0.0038656610498627913\n",
      "303 0.0048757275614619774\n",
      "304 0.007386072886798487\n",
      "305 0.009542327066616537\n",
      "306 0.0063830489192460375\n",
      "307 0.0035595166663819444\n",
      "308 0.003220870387948728\n",
      "309 0.004711726366019764\n",
      "310 0.006289084729211934\n",
      "311 0.004810222377564378\n",
      "312 0.002353007804715756\n",
      "313 0.002130101091902305\n",
      "314 0.0038935691041216297\n",
      "315 0.004667727639787676\n",
      "316 0.0032203957111283936\n",
      "317 0.002006483631082173\n",
      "318 0.00206688163898325\n",
      "319 0.0025971025675126046\n",
      "320 0.002809176622760163\n",
      "321 0.002717592413999271\n",
      "322 0.002495008493831559\n",
      "323 0.0017758113117076592\n",
      "324 0.0014652327579624783\n",
      "325 0.0018835168239737065\n",
      "326 0.002320278058988705\n",
      "327 0.0023312119157401457\n",
      "328 0.0018729028112634603\n",
      "329 0.0016124633365116197\n",
      "330 0.0014901198587801575\n",
      "331 0.0013523587629488856\n",
      "332 0.0013282251287763073\n",
      "333 0.0015056507794521227\n",
      "334 0.0017426781203235375\n",
      "335 0.0018011386175313707\n",
      "336 0.001750359998207814\n",
      "337 0.0016441918013198173\n",
      "338 0.0016459967067805233\n",
      "339 0.0015450052722647291\n",
      "340 0.0014197710063119143\n",
      "341 0.0012677766845328065\n",
      "342 0.001205929245479506\n",
      "343 0.0011850215358671084\n",
      "344 0.001160971607604226\n",
      "345 0.0011178246630628838\n",
      "346 0.0010987977607449493\n",
      "347 0.0011424278157007937\n",
      "348 0.0013092548757540198\n",
      "349 0.0015748264390866038\n",
      "350 0.00219102020158959\n",
      "351 0.0031572741412243034\n",
      "352 0.005789593414165847\n",
      "353 0.00928583567585892\n",
      "354 0.0194685158671668\n",
      "355 0.024587056492617335\n",
      "356 0.04114907291788123\n",
      "357 0.024553226459536226\n",
      "358 0.010979080987140092\n",
      "359 0.0014602031893014645\n",
      "360 0.008101040053781896\n",
      "361 0.019714882149898586\n",
      "362 0.011219842028988203\n",
      "363 0.0025455968837528892\n",
      "364 0.0032366823263920426\n",
      "365 0.009096573414366987\n",
      "366 0.010254064667771097\n",
      "367 0.0031442566206729065\n",
      "368 0.0021565350073154644\n",
      "369 0.006289254931839946\n",
      "370 0.006139949601911362\n",
      "371 0.003359399406824085\n",
      "372 0.001365237524067641\n",
      "373 0.003201155651480473\n",
      "374 0.005227727014453197\n",
      "375 0.0031052038036533426\n",
      "376 0.0012569194999156638\n",
      "377 0.0017532420818800838\n",
      "378 0.0030755410987316116\n",
      "379 0.003207974646119222\n",
      "380 0.001516978839646453\n",
      "381 0.0009685137980472508\n",
      "382 0.001893609244226567\n",
      "383 0.0023733998913956647\n",
      "384 0.0018621720822094014\n",
      "385 0.0009016533404467325\n",
      "386 0.0009262437810452969\n",
      "387 0.001618876365001086\n",
      "388 0.00171294867751108\n",
      "389 0.0012210982769782317\n",
      "390 0.000711296540032679\n",
      "391 0.0008222018394858828\n",
      "392 0.0012350072113666713\n",
      "393 0.0012644369900698697\n",
      "394 0.0009762572152089222\n",
      "395 0.0006611270270451871\n",
      "396 0.000660739749290527\n",
      "397 0.0008665954495951447\n",
      "398 0.0009616726808548879\n",
      "399 0.0008863035202680041\n",
      "400 0.0006937380805239657\n",
      "401 0.0005804668172220666\n",
      "402 0.0005970702010194443\n",
      "403 0.0006718820826894948\n",
      "404 0.0007277144253646072\n",
      "405 0.0006999002762274238\n",
      "406 0.00063129626755764\n",
      "407 0.000554314386347061\n",
      "408 0.0005052199825521628\n",
      "409 0.0004987424041151888\n",
      "410 0.0005223968879799096\n",
      "411 0.0005561893259892298\n",
      "412 0.0005692214953243243\n",
      "413 0.000553213287770082\n",
      "414 0.0005123151990793424\n",
      "415 0.0004603659779280924\n",
      "416 0.00041960676110124344\n",
      "417 0.00040253077423499085\n",
      "418 0.00040826917236042693\n",
      "419 0.00042612327819424757\n",
      "420 0.0004441449276150538\n",
      "421 0.00045504971044056045\n",
      "422 0.0004586434976343173\n",
      "423 0.0004583156798884497\n",
      "424 0.0004625799174489359\n",
      "425 0.0004671529674026381\n",
      "426 0.000482237247858701\n",
      "427 0.0004924485611354258\n",
      "428 0.0005130457114117759\n",
      "429 0.0005266639948694501\n",
      "430 0.0005612967161001399\n",
      "431 0.0005962949844367809\n",
      "432 0.0006823604483518871\n",
      "433 0.0007850552770176103\n",
      "434 0.0009938284147112098\n",
      "435 0.001257031975447267\n",
      "436 0.001779231151256214\n",
      "437 0.0023866294153870042\n",
      "438 0.003636006244084228\n",
      "439 0.004842570086522776\n",
      "440 0.007483574094085198\n",
      "441 0.008986044891253214\n",
      "442 0.012993973360521705\n",
      "443 0.012603087085837369\n",
      "444 0.014240982188922469\n",
      "445 0.009488780759752301\n",
      "446 0.005834657284354009\n",
      "447 0.0017434693052599895\n",
      "448 0.000435967544814591\n",
      "449 0.0016950544680511609\n",
      "450 0.003821154556115258\n",
      "451 0.005610991441043419\n",
      "452 0.004674737039199604\n",
      "453 0.0033005654864012124\n",
      "454 0.001275655854069798\n",
      "455 0.000440825959351692\n",
      "456 0.0008418772191575523\n",
      "457 0.0018477995749400602\n",
      "458 0.0028057584250018174\n",
      "459 0.002722410330056566\n",
      "460 0.0023772847677189395\n",
      "461 0.0013657085280358282\n",
      "462 0.0006717696837079092\n",
      "463 0.0003798139138247145\n",
      "464 0.0005531990842445012\n",
      "465 0.00098184196128164\n",
      "466 0.0013252797057639013\n",
      "467 0.001569933999266822\n",
      "468 0.0013629381813428574\n",
      "469 0.0011192883906766266\n",
      "470 0.0007035272152722987\n",
      "471 0.00040600243784120403\n",
      "472 0.00025833960537638396\n",
      "473 0.0002848787998324534\n",
      "474 0.00043152695400420924\n",
      "475 0.0006043732974187723\n",
      "476 0.0007766798632571367\n",
      "477 0.0008310541064280339\n",
      "478 0.0008649753929843469\n",
      "479 0.0007737951829736411\n",
      "480 0.0006981787490354965\n",
      "481 0.0005665291725235454\n",
      "482 0.0004678808449786397\n",
      "483 0.000372449100254434\n",
      "484 0.000307064165186699\n",
      "485 0.0002631785349729418\n",
      "486 0.00023709875004818338\n",
      "487 0.00022545278178585286\n",
      "488 0.00021963954768116465\n",
      "489 0.00021927311227816097\n",
      "490 0.0002201445968626314\n",
      "491 0.00022529649058830123\n",
      "492 0.00023392547101566807\n",
      "493 0.00025452475477015523\n",
      "494 0.0002864788406925616\n",
      "495 0.00035270932055086145\n",
      "496 0.00044959214909020775\n",
      "497 0.000643633303031631\n",
      "498 0.0009234645133217518\n",
      "499 0.0015163374914652665\n",
      "500 0.0023533318453767054\n",
      "501 0.004324758318986788\n",
      "502 0.006840504255555912\n",
      "503 0.013503088212832462\n",
      "504 0.019488821867865967\n",
      "505 0.036982904282035926\n",
      "506 0.04102569816100845\n",
      "507 0.0534303967033722\n",
      "508 0.03430583977335494\n",
      "509 0.009492684739629375\n",
      "510 0.0011396031144280735\n",
      "511 0.012635426254948708\n",
      "512 0.023004552837883992\n",
      "513 0.013818876194161021\n",
      "514 0.004284956835966764\n",
      "515 0.004232566129434344\n",
      "516 0.010641545378600927\n",
      "517 0.010433088387556747\n",
      "518 0.006313885406704105\n",
      "519 0.0062059766407063024\n",
      "520 0.0037741839588101953\n",
      "521 0.0031685585818183016\n",
      "522 0.005531813720545126\n",
      "523 0.0056969426409042515\n",
      "524 0.003589568751885019\n",
      "525 0.0008015871370304087\n",
      "526 0.002507979233606917\n",
      "527 0.005290475285249064\n",
      "528 0.0031921481292060145\n",
      "529 0.0009180578653058489\n",
      "530 0.0011950958924463425\n",
      "531 0.00231443248992679\n",
      "532 0.0024658551614915626\n",
      "533 0.001578019920398109\n",
      "534 0.0013761411419882048\n",
      "535 0.0012653846211395307\n",
      "536 0.0008919827569369562\n",
      "537 0.001162128095688544\n",
      "538 0.001595343379761005\n",
      "539 0.0013238352350970915\n",
      "540 0.0005294296655336286\n",
      "541 0.00033026561464892355\n",
      "542 0.0008557231449146445\n",
      "543 0.0011485436149088382\n",
      "544 0.0008340425099317229\n",
      "545 0.00044751134425149926\n",
      "546 0.00043311508438887786\n",
      "547 0.0005143688721065888\n",
      "548 0.0005097453717242444\n",
      "549 0.0005193517994132804\n",
      "550 0.0005668327478951568\n",
      "551 0.0005300357923330898\n",
      "552 0.0003213189558689658\n",
      "553 0.00019594314091491493\n",
      "554 0.00028249308580325353\n",
      "555 0.00042279999192044266\n",
      "556 0.0004389342082498863\n",
      "557 0.000324410803183968\n",
      "558 0.0002472561503873174\n",
      "559 0.00023658394732753825\n",
      "560 0.00022945055532017317\n",
      "561 0.00020489703945495552\n",
      "562 0.00020311304895576242\n",
      "563 0.0002455242057361895\n",
      "564 0.0002739606884224316\n",
      "565 0.000246857450656151\n",
      "566 0.00018574635690535494\n",
      "567 0.00014920334001868575\n",
      "568 0.0001502797497093112\n",
      "569 0.0001609649906503\n",
      "570 0.00015847054715430027\n",
      "571 0.00015378202584576253\n",
      "572 0.00016267461607577302\n",
      "573 0.00017591434180737873\n",
      "574 0.0001776831723459218\n",
      "575 0.00015938722376039702\n",
      "576 0.00013777248508429018\n",
      "577 0.00012512684071590402\n",
      "578 0.00012189004985854698\n",
      "579 0.00011859232231862321\n",
      "580 0.00011080063748271482\n",
      "581 0.00010408873140792103\n",
      "582 0.0001039453660743721\n",
      "583 0.00010945174332933025\n",
      "584 0.0001147041740585634\n",
      "585 0.00011586263365511287\n",
      "586 0.00011435952127788146\n",
      "587 0.0001148631972865125\n",
      "588 0.00011807377323531979\n",
      "589 0.000123552359528017\n",
      "590 0.00012712005603860137\n",
      "591 0.00013075548758986278\n",
      "592 0.00013446484045734065\n",
      "593 0.0001439217773738468\n",
      "594 0.00015653115719473104\n",
      "595 0.00017719318424630714\n",
      "596 0.00020118963564179576\n",
      "597 0.00024239553315065027\n",
      "598 0.00029387419466816176\n",
      "599 0.00038936950469845537\n",
      "600 0.0005085706104159727\n",
      "601 0.0007375487173905675\n",
      "602 0.0010128647470703145\n",
      "603 0.0015936941888549788\n",
      "604 0.0022333840142905533\n",
      "605 0.0037664023625101134\n",
      "606 0.005120006826926241\n",
      "607 0.008881671073877292\n",
      "608 0.010676508934851652\n",
      "609 0.01777944961516958\n",
      "610 0.01638646460934848\n",
      "611 0.022050782776321488\n",
      "612 0.013427440119851454\n",
      "613 0.009624939465987477\n",
      "614 0.002847137775118146\n",
      "615 0.00025388723046113927\n",
      "616 0.0013345256309667006\n",
      "617 0.0041643632895640385\n",
      "618 0.007500475566683363\n",
      "619 0.006109744780863185\n",
      "620 0.004531255934975152\n",
      "621 0.0014268888204163302\n",
      "622 0.00018594443108107246\n",
      "623 0.0008920898006929503\n",
      "624 0.0023727638045614213\n",
      "625 0.003795348401614885\n",
      "626 0.003030535779158963\n",
      "627 0.0019999277602003145\n",
      "628 0.0006152413683974478\n",
      "629 0.00014101867761166423\n",
      "630 0.0005909659057770912\n",
      "631 0.001335947417255889\n",
      "632 0.0019484894205226532\n",
      "633 0.0016187847207311977\n",
      "634 0.0010882869310161378\n",
      "635 0.00040461703430065896\n",
      "636 0.00011232651100471628\n",
      "637 0.0002536791751334704\n",
      "638 0.0006119992573333106\n",
      "639 0.0009559467866721802\n",
      "640 0.0009464594359115755\n",
      "641 0.0007828846733244914\n",
      "642 0.0004314298805167541\n",
      "643 0.00017457322706769792\n",
      "644 8.339177125787288e-05\n",
      "645 0.00016146863999156046\n",
      "646 0.00032776457754440637\n",
      "647 0.00045504859171982385\n",
      "648 0.000519275082505372\n",
      "649 0.0004435964857803947\n",
      "650 0.0003324064688708741\n",
      "651 0.00019421011358054685\n",
      "652 0.00010147070353157873\n",
      "653 6.849601474806727e-05\n",
      "654 9.13951417301374e-05\n",
      "655 0.00014761113828291143\n",
      "656 0.00020489132334092626\n",
      "657 0.00025153096859971955\n",
      "658 0.0002596328085825625\n",
      "659 0.00025127799083362153\n",
      "660 0.0002124085581483473\n",
      "661 0.00017199499886669185\n",
      "662 0.00012920292416983552\n",
      "663 9.873363110232986e-05\n",
      "664 8.284021699559884e-05\n",
      "665 8.327767447410345e-05\n",
      "666 0.00010091684512209199\n",
      "667 0.00013288236795773106\n",
      "668 0.00018666720497927195\n",
      "669 0.0002572759333731882\n",
      "670 0.00037787087514358996\n",
      "671 0.0005336879424412892\n",
      "672 0.0008411099404500528\n",
      "673 0.0012205697187533256\n",
      "674 0.0020603439564827247\n",
      "675 0.0029028968939220435\n",
      "676 0.005034536868766335\n",
      "677 0.006277724372063162\n",
      "678 0.010349509262583805\n",
      "679 0.009802794481838342\n",
      "680 0.012522608047860291\n",
      "681 0.0077124767741358095\n",
      "682 0.005159316942640923\n",
      "683 0.0017582102820604458\n",
      "684 0.0009934858600036418\n",
      "685 0.0027099666564512816\n",
      "686 0.004919734340270763\n",
      "687 0.007568159690342433\n",
      "688 0.006938220505121004\n",
      "689 0.007805700497435097\n",
      "690 0.007536565423324374\n",
      "691 0.011934872493419445\n",
      "692 0.013518284580628894\n",
      "693 0.020078386759853527\n",
      "694 0.017929703973399477\n",
      "695 0.019268710871896893\n",
      "696 0.011130071482885995\n",
      "697 0.006961369402524099\n",
      "698 0.002436702518865169\n",
      "699 0.0013476925137529574\n",
      "700 0.0021603528375038874\n",
      "701 0.003887726191545778\n",
      "702 0.005689387645370633\n",
      "703 0.005268609683687716\n",
      "704 0.005410839098385541\n",
      "705 0.0033587064508903987\n",
      "706 0.0019814033613818754\n",
      "707 0.0008815012615847261\n",
      "708 0.0008128350032304509\n",
      "709 0.0015207222446251886\n",
      "710 0.002251764174343676\n",
      "711 0.003038906849808529\n",
      "712 0.0025205227820297564\n",
      "713 0.0018476283816748435\n",
      "714 0.0007998890199738061\n",
      "715 0.0002164571734186483\n",
      "716 0.00022591847224363523\n",
      "717 0.000675391876547768\n",
      "718 0.0012658870476929735\n",
      "719 0.0014588669844381825\n",
      "720 0.0014356941861832031\n",
      "721 0.0009534600479970245\n",
      "722 0.0005058487083074893\n",
      "723 0.00017161210842947427\n",
      "724 8.969066504441216e-05\n",
      "725 0.00021479720267869612\n",
      "726 0.0004199078722136728\n",
      "727 0.0006139759330704755\n",
      "728 0.0006614129926815484\n",
      "729 0.0006499109710144511\n",
      "730 0.0005108518080865119\n",
      "731 0.00038885617644758303\n",
      "732 0.00026156878694058247\n",
      "733 0.00018479849104289034\n",
      "734 0.00014563116300138283\n",
      "735 0.00013373364335983107\n",
      "736 0.00014286492210065444\n",
      "737 0.00015684802518079372\n",
      "738 0.0001794460247855092\n",
      "739 0.000200753194111116\n",
      "740 0.00023206175985089982\n",
      "741 0.0002531378147264678\n",
      "742 0.00028115563948843367\n",
      "743 0.00028975791522499624\n",
      "744 0.00029789005513886644\n",
      "745 0.0002863679243749023\n",
      "746 0.00027245305465887647\n",
      "747 0.00024585599958740597\n",
      "748 0.00022167383153529215\n",
      "749 0.0001933323251442269\n",
      "750 0.00017409752101089272\n",
      "751 0.00015595852759110152\n",
      "752 0.00014904047097379346\n",
      "753 0.00014424088806103377\n",
      "754 0.0001500079548058173\n",
      "755 0.00015675278854374635\n",
      "756 0.00017472919317927535\n",
      "757 0.00019355446563238573\n",
      "758 0.0002294996576201169\n",
      "759 0.0002688529455621843\n",
      "760 0.00034360868796620204\n",
      "761 0.0004295807385269264\n",
      "762 0.0005974396505694882\n",
      "763 0.0007894991330742403\n",
      "764 0.0011858709475118293\n",
      "765 0.0016112255914311317\n",
      "766 0.002586627343894905\n",
      "767 0.0035049722720470545\n",
      "768 0.005908441257542543\n",
      "769 0.0075182309416538815\n",
      "770 0.012978088938127505\n",
      "771 0.014309174669627745\n",
      "772 0.023225439769066995\n",
      "773 0.0195727471449171\n",
      "774 0.024845737275273536\n",
      "775 0.016082712389578674\n",
      "776 0.012544097397957591\n",
      "777 0.00955298366021351\n",
      "778 0.007716455959810548\n",
      "779 0.011932951336048218\n",
      "780 0.012332817514334522\n",
      "781 0.016048486928404784\n",
      "782 0.011109589912481429\n",
      "783 0.008030653942622264\n",
      "784 0.002692109335555528\n",
      "785 0.0004903767250905807\n",
      "786 0.0013082561868591875\n",
      "787 0.0037670394866173274\n",
      "788 0.006822664047001794\n",
      "789 0.006402158096177119\n",
      "790 0.005644888495435798\n",
      "791 0.002634625538008616\n",
      "792 0.0006975291806529311\n",
      "793 0.0001760499719101859\n",
      "794 0.0010114555474747399\n",
      "795 0.0024360921566250965\n",
      "796 0.0030007604228835002\n",
      "797 0.0031290178140461426\n",
      "798 0.0019965166586327064\n",
      "799 0.0010026363333420108\n",
      "800 0.00030811090743940465\n",
      "801 0.0002659623602394427\n",
      "802 0.0006967256786267308\n",
      "803 0.0011543628210856384\n",
      "804 0.001500758224916855\n",
      "805 0.0013219594925061434\n",
      "806 0.0010278387570239191\n",
      "807 0.0005766614397481209\n",
      "808 0.0003001794293034221\n",
      "809 0.00021490608624286122\n",
      "810 0.0003073535615155364\n",
      "811 0.00048824828747861496\n",
      "812 0.000596011433678346\n",
      "813 0.0006506359181045402\n",
      "814 0.0005494869451226603\n",
      "815 0.000422891247617982\n",
      "816 0.00026854880498625904\n",
      "817 0.00017110615377992944\n",
      "818 0.00013389619679552144\n",
      "819 0.00015862929341629815\n",
      "820 0.00021778133203906625\n",
      "821 0.00027212330467465333\n",
      "822 0.0003190127221490596\n",
      "823 0.0003142530995881353\n",
      "824 0.0002950176026990722\n",
      "825 0.00023664577465442539\n",
      "826 0.0001798172970552998\n",
      "827 0.00012061313839200839\n",
      "828 7.79317784869768e-05\n",
      "829 5.257076726714868e-05\n",
      "830 4.606573160341902e-05\n",
      "831 5.45703344220602e-05\n",
      "832 7.3346205717301e-05\n",
      "833 9.812396244355128e-05\n",
      "834 0.00012261121926188158\n",
      "835 0.00014896930238368766\n",
      "836 0.0001686156412749442\n",
      "837 0.0001916629855227494\n",
      "838 0.00020604836121596186\n",
      "839 0.00022877182400311252\n",
      "840 0.00024469070774322805\n",
      "841 0.00027558669973644807\n",
      "842 0.00030457160180293264\n",
      "843 0.00035738532462547824\n",
      "844 0.0004195695618590485\n",
      "845 0.00052166551260709\n",
      "846 0.0006590335844545436\n",
      "847 0.0008680512049225733\n",
      "848 0.0011731931305535546\n",
      "849 0.0016158957184932805\n",
      "850 0.002319670038624118\n",
      "851 0.0032641593313297436\n",
      "852 0.004912109247492588\n",
      "853 0.006902120749550077\n",
      "854 0.010709191564055752\n",
      "855 0.014433633158239133\n",
      "856 0.022009048450660307\n",
      "857 0.026722871530225893\n",
      "858 0.035621801188484625\n",
      "859 0.03774029533416835\n",
      "860 0.03345646759477734\n",
      "861 0.027276646332724672\n",
      "862 0.011281765430897445\n",
      "863 0.004996622003360832\n",
      "864 0.004291472208802714\n",
      "865 0.009788963292456395\n",
      "866 0.011122595786477738\n",
      "867 0.011333562055254891\n",
      "868 0.00905125952353678\n",
      "869 0.005277800252458075\n",
      "870 0.005519461529884145\n",
      "871 0.005545492562306219\n",
      "872 0.006529025730533326\n",
      "873 0.0037938375793009284\n",
      "874 0.002179662604449847\n",
      "875 0.002469096062749312\n",
      "876 0.0038428020320805797\n",
      "877 0.005625174486249993\n",
      "878 0.004047947185824237\n",
      "879 0.002179157850225979\n",
      "880 0.00037081204289101543\n",
      "881 0.0004275439619727108\n",
      "882 0.0018146124615064005\n",
      "883 0.002661288644094441\n",
      "884 0.0028228909416395482\n",
      "885 0.0016490781873018821\n",
      "886 0.0008549982702098193\n",
      "887 0.0006769598468630879\n",
      "888 0.0009533055689740752\n",
      "889 0.0011507053195403585\n",
      "890 0.0008113897517600994\n",
      "891 0.0004823341027361385\n",
      "892 0.00040668925291366143\n",
      "893 0.0007023004983044055\n",
      "894 0.0009974588361102703\n",
      "895 0.0010285274099787116\n",
      "896 0.0007308416985351563\n",
      "897 0.00034689652687735665\n",
      "898 0.0001327607470361666\n",
      "899 0.00016802348747361318\n",
      "900 0.0003028984091553971\n",
      "901 0.0003905030865289912\n",
      "902 0.00033422051882025275\n",
      "903 0.0002398575881473663\n",
      "904 0.0002059130357230245\n",
      "905 0.00025669688869277925\n",
      "906 0.0003549668663099658\n",
      "907 0.00038694421283249903\n",
      "908 0.00035527508976611414\n",
      "909 0.00024940045445416277\n",
      "910 0.00016201065673038392\n",
      "911 0.00012033723374575009\n",
      "912 0.00012943162456463206\n",
      "913 0.00014850569429287984\n",
      "914 0.00014384075028883546\n",
      "915 0.0001114719274381826\n",
      "916 6.594912583509643e-05\n",
      "917 3.555919974861119e-05\n",
      "918 3.21064724368693e-05\n",
      "919 4.917896983389625e-05\n",
      "920 6.996515806446813e-05\n",
      "921 7.817192197382912e-05\n",
      "922 7.291406076623936e-05\n",
      "923 5.959748519823169e-05\n",
      "924 5.070660829590781e-05\n",
      "925 5.418093586690738e-05\n",
      "926 6.945753809412947e-05\n",
      "927 9.372079039850246e-05\n",
      "928 0.00011886545186239414\n",
      "929 0.00014920354804426122\n",
      "930 0.00018142736995692863\n",
      "931 0.00023735663275447117\n",
      "932 0.0003121150552981146\n",
      "933 0.00045462443664716096\n",
      "934 0.0006341744420903716\n",
      "935 0.0009856478852837039\n",
      "936 0.00138632713749293\n",
      "937 0.0022612361955887225\n",
      "938 0.0031209570839100184\n",
      "939 0.005328400784824114\n",
      "940 0.006909275481952236\n",
      "941 0.012097520152345347\n",
      "942 0.01356561958629209\n",
      "943 0.02240343420614836\n",
      "944 0.019032772247417926\n",
      "945 0.024965202255204644\n",
      "946 0.014847342789456241\n",
      "947 0.01130263209028815\n",
      "948 0.004374918616430853\n",
      "949 0.0013774659448029336\n",
      "950 0.0010758535165339626\n",
      "951 0.0028224472321274367\n",
      "952 0.005665975516040719\n",
      "953 0.006061554054503354\n",
      "954 0.00704069657045348\n",
      "955 0.004492573002629057\n",
      "956 0.002941836314032749\n",
      "957 0.0016040897994178236\n",
      "958 0.001691787041550293\n",
      "959 0.002310868848105276\n",
      "960 0.003091298351939386\n",
      "961 0.0033631664780672922\n",
      "962 0.0025151834012516945\n",
      "963 0.0015664612290167258\n",
      "964 0.0005479546345287671\n",
      "965 0.0001680067493418197\n",
      "966 0.0004169040101003659\n",
      "967 0.0010427574055389417\n",
      "968 0.0016185055848398633\n",
      "969 0.0018545373808663216\n",
      "970 0.0017082098422962425\n",
      "971 0.0012571879752651047\n",
      "972 0.0007192447863709782\n",
      "973 0.00035060361941637063\n",
      "974 0.00020136346285651657\n",
      "975 0.0002771686550876205\n",
      "976 0.0004398272493371803\n",
      "977 0.0006129943328577052\n",
      "978 0.0006274273712335578\n",
      "979 0.0005787747580386653\n",
      "980 0.0004114436269521411\n",
      "981 0.00025601604035422964\n",
      "982 0.00014702631787230923\n",
      "983 0.00011511313085527728\n",
      "984 0.0001616420482939087\n",
      "985 0.00024781928444533814\n",
      "986 0.0003536205674982178\n",
      "987 0.0004176708841479641\n",
      "988 0.0004702743504364725\n",
      "989 0.0004532637294875881\n",
      "990 0.0004399084210653857\n",
      "991 0.00039155461469496557\n",
      "992 0.0003758171725284508\n",
      "993 0.0003631996977667962\n",
      "994 0.00040784113495648613\n",
      "995 0.0004585620531622687\n",
      "996 0.0005908691595890112\n",
      "997 0.0007013478815240537\n",
      "998 0.0009446062234868584\n",
      "999 0.0011183918827742292\n"
     ]
    },
    {
     "data": {
      "text/plain": "<Figure size 432x288 with 1 Axes>",
      "image/png": "[encoded data removed]"
     },
     "metadata": {
      "needs_background": "light"
     },
     "output_type": "display_data"
    }
   ]
  },
  {
   "cell_type": "code",
   "metadata": {
    "colab": {
     "base_uri": "https://localhost:8080/"
    },
    "id": "p_Pbs9GcJzwi",
    "outputId": "10e6782c-b5cf-4dc3-d96e-874e81514554"
   },
   "source": [
    "loss = criterion.forward(y_pred, y_true)\n",
    "loss"
   ],
   "execution_count": 49,
   "outputs": [
    {
     "data": {
      "text/plain": "0.0009446062234868588"
     },
     "execution_count": 49,
     "metadata": {},
     "output_type": "execute_result"
    }
   ]
  },
  {
   "cell_type": "markdown",
   "metadata": {
    "id": "33YJP2KeocW8"
   },
   "source": [
    "# Логистическая регрессия\n",
    "\n",
    "Этот пример нужнен для теситрования классификации (`CrossEntropy` и `SoftMax`).\n",
    "\n",
    "Возьмем в качестве датасета точки из двух гауссиан на плоскости."
   ]
  },
  {
   "cell_type": "code",
   "metadata": {
    "scrolled": false,
    "id": "Vy-6IgGWocW9",
    "colab": {
     "base_uri": "https://localhost:8080/",
     "height": 265
    },
    "outputId": "2b2d9db4-ca8d-4bea-be3c-a992037c28d2"
   },
   "source": [
    "n = 500\n",
    "\n",
    "X1 = np.random.randn(n, 2) + np.array([2, 2])\n",
    "X2 = np.random.randn(n, 2) + np.array([-2, -2])\n",
    "X = np.vstack([X1, X2])\n",
    "\n",
    "Y = np.concatenate([np.ones(n), np.zeros(n)])[:, None]\n",
    "Y = np.hstack([Y, 1-Y])\n",
    "\n",
    "plt.scatter(X[:,0], X[:,1], c=Y[:,0])\n",
    "plt.show()"
   ],
   "execution_count": 50,
   "outputs": [
    {
     "data": {
      "text/plain": "<Figure size 432x288 with 1 Axes>",
      "image/png": "[encoded data removed]"
     },
     "metadata": {
      "needs_background": "light"
     },
     "output_type": "display_data"
    }
   ]
  },
  {
   "cell_type": "markdown",
   "metadata": {
    "id": "g6ga19VxocXB"
   },
   "source": [
    "Обратите внимание на `y`. Он в формате one-hot: у каждого вектора все нули, кроме одной единицы.\n",
    "\n",
    "Выходные данные в таком формате упростят написание `CrossEntropy`."
   ]
  },
  {
   "cell_type": "markdown",
   "metadata": {
    "id": "zNDguGQXocXD"
   },
   "source": [
    "### Модель\n",
    "\n",
    "Логистическая регрессия — это тоже как бы маленькая нейронка: линейный слой, софтмакс, и максимизируем правдоподобие."
   ]
  },
  {
   "cell_type": "code",
   "execution_count": 52,
   "outputs": [],
   "source": [
    "def block(input_size, output_size):\n",
    "    return Sequential(\n",
    "        Linear(input_size, output_size),\n",
    "        ReLU(),\n",
    "        Dropout(drop_probability=0.5)\n",
    "    )"
   ],
   "metadata": {
    "collapsed": false,
    "pycharm": {
     "name": "#%%\n"
    }
   }
  },
  {
   "cell_type": "code",
   "execution_count": 54,
   "outputs": [],
   "source": [
    "model = Sequential(\n",
    "    block(2, 100),\n",
    "    block(100, 150),\n",
    "    block(150, 100),\n",
    "    block(100, 50),\n",
    "    block(50, 30),\n",
    "    block(30, 10),\n",
    "    block(10, 5),\n",
    "\n",
    "    Linear(5, 2),\n",
    "    SoftMax()\n",
    ")\n",
    "\n",
    "criterion = CrossEntropy()"
   ],
   "metadata": {
    "collapsed": false,
    "pycharm": {
     "name": "#%%\n"
    }
   }
  },
  {
   "cell_type": "code",
   "execution_count": 55,
   "outputs": [],
   "source": [
    "model = Sequential(\n",
    "    Linear(2, 2),\n",
    "    SoftMax()\n",
    ")\n",
    "criterion = CrossEntropy()"
   ],
   "metadata": {
    "collapsed": false,
    "pycharm": {
     "name": "#%%\n"
    }
   }
  },
  {
   "cell_type": "code",
   "execution_count": 56,
   "outputs": [],
   "source": [
    "optimizer = Adam(learning_rate_init=learning_rate)"
   ],
   "metadata": {
    "collapsed": false,
    "pycharm": {
     "name": "#%%\n"
    }
   }
  },
  {
   "cell_type": "markdown",
   "metadata": {
    "id": "NMoT8yXCocXI"
   },
   "source": [
    "### Обучение"
   ]
  },
  {
   "cell_type": "code",
   "metadata": {
    "id": "KIk7RXUrocXJ"
   },
   "source": [
    "epochs = 100\n",
    "batch_size = 20\n",
    "learning_rate = 1e-2"
   ],
   "execution_count": 57,
   "outputs": []
  },
  {
   "cell_type": "code",
   "metadata": {
    "scrolled": false,
    "id": "6RU473D9ocXN",
    "colab": {
     "base_uri": "https://localhost:8080/",
     "height": 295
    },
    "outputId": "a413564e-b5b9-422b-93a2-8a8fa6c9175a"
   },
   "source": [
    "history = []\n",
    "\n",
    "for i in range(epochs):\n",
    "    for x, y_true in loader(X, Y, batch_size):\n",
    "        model.train()\n",
    "\n",
    "        y_pred = model.forward(x)\n",
    "        loss = criterion.forward(y_pred, y_true)\n",
    "\n",
    "        #print(y_pred, y_true)\n",
    "        #print('SUM OF SQUARES:', np.mean(np.power(y_pred-y_true, 2)))\n",
    "\n",
    "        # backward -- считаем все градиенты в обратном порядке\n",
    "        grad = criterion.backward(y_pred, y_true)\n",
    "        model.backward(x, grad)\n",
    "\n",
    "        # обновляем веса\n",
    "        grad_clipping(model.grad_parameters(), max_clip=0)\n",
    "        optimizer.step(model.parameters(),\n",
    "                       model.grad_parameters())\n",
    "\n",
    "\n",
    "        history.append(criterion_xy_loss(model, x, y_true))\n",
    "\n",
    "plt.title(\"Training loss\")\n",
    "plt.xlabel(\"iteration\")\n",
    "plt.ylabel(\"loss\")\n",
    "plt.plot(history, 'b')\n",
    "plt.show()"
   ],
   "execution_count": 59,
   "outputs": [
    {
     "data": {
      "text/plain": "<Figure size 432x288 with 1 Axes>",
      "image/png": "[encoded data removed]"
     },
     "metadata": {
      "needs_background": "light"
     },
     "output_type": "display_data"
    }
   ]
  },
  {
   "cell_type": "code",
   "execution_count": 63,
   "outputs": [
    {
     "data": {
      "text/plain": "-0.0010796955972120898"
     },
     "execution_count": 63,
     "metadata": {},
     "output_type": "execute_result"
    }
   ],
   "source": [
    "history[-1]"
   ],
   "metadata": {
    "collapsed": false,
    "pycharm": {
     "name": "#%%\n"
    }
   }
  },
  {
   "cell_type": "code",
   "metadata": {
    "id": "EvDmfy-Rh_Rc"
   },
   "source": [
    "def accuracy(y_true, y_pred):\n",
    "    y_max = np.argmax(y_true, axis=1)\n",
    "    y_pr = np.argmax(y_pred, axis=1)\n",
    "    return np.sum(y_max == y_pr) / y_true.shape[0]"
   ],
   "execution_count": 60,
   "outputs": []
  },
  {
   "cell_type": "code",
   "metadata": {
    "colab": {
     "base_uri": "https://localhost:8080/"
    },
    "id": "D6KklVv5aTpt",
    "outputId": "7904bab8-d709-4df1-f192-bcfbda694f8a"
   },
   "source": [
    "model.forward(X)"
   ],
   "execution_count": 61,
   "outputs": [
    {
     "data": {
      "text/plain": "array([[9.99999322e-01, 6.77608560e-07],\n       [1.00000000e+00, 3.59338193e-11],\n       [1.00000000e+00, 9.82107530e-11],\n       ...,\n       [1.60408439e-08, 9.99999984e-01],\n       [1.90909474e-02, 9.80909053e-01],\n       [1.01293213e-07, 9.99999899e-01]])"
     },
     "execution_count": 61,
     "metadata": {},
     "output_type": "execute_result"
    }
   ]
  },
  {
   "cell_type": "code",
   "metadata": {
    "colab": {
     "base_uri": "https://localhost:8080/"
    },
    "id": "7HydUZA-iPfy",
    "outputId": "e950f9fd-b614-407b-8c7a-210be37b5298"
   },
   "source": [
    "print(accuracy(model.forward(X), Y))"
   ],
   "execution_count": 62,
   "outputs": [
    {
     "name": "stdout",
     "output_type": "stream",
     "text": [
      "0.997\n"
     ]
    }
   ]
  },
  {
   "cell_type": "markdown",
   "metadata": {
    "id": "Mc_7Av6uocXR"
   },
   "source": [
    "Мы тут пропустили много важных деталей: валидация, подсчет точности (кроссэнтропия не очень информативна), регуляризация. Вам всё это нужно будет реализовать потом самим."
   ]
  },
  {
   "cell_type": "markdown",
   "metadata": {
    "id": "tmqQxNhFocXS"
   },
   "source": [
    "# Теперь сами"
   ]
  },
  {
   "cell_type": "code",
   "metadata": {
    "id": "BRYIbyvzocXT"
   },
   "source": [
    "import os\n",
    "from sklearn.datasets import fetch_openml\n",
    "# эти библиотеки нужны только для того, чтобы скачать MNIST\n",
    "\n",
    "if os.path.exists('mnist.npz'):\n",
    "    with np.load('mnist.npz', 'r') as data:\n",
    "        X = data['X']\n",
    "        y = data['y']\n",
    "else:\n",
    "    mnist = fetch_openml(\"mnist_784\")\n",
    "    # очень важно его отнормировать -- см. Linear в hw_framework\n",
    "    X = mnist.data / 255.0\n",
    "    y = mnist.target\n",
    "    np.savez('mnist.npz', X=X, y=y)"
   ],
   "execution_count": 67,
   "outputs": []
  },
  {
   "cell_type": "markdown",
   "metadata": {
    "id": "FPZV7JdYocXa"
   },
   "source": [
    "Переведите лейблы в one-hot."
   ]
  },
  {
   "cell_type": "code",
   "metadata": {
    "colab": {
     "base_uri": "https://localhost:8080/"
    },
    "id": "BmEiUaS9220w",
    "outputId": "1b76e58b-c019-433f-a7a7-d2e448c49dc4"
   },
   "source": [
    "import pandas as pd\n",
    "y"
   ],
   "execution_count": 68,
   "outputs": [
    {
     "data": {
      "text/plain": "0        5\n1        0\n2        4\n3        1\n4        9\n        ..\n69995    2\n69996    3\n69997    4\n69998    5\n69999    6\nName: class, Length: 70000, dtype: category\nCategories (10, object): ['0', '1', '2', '3', ..., '6', '7', '8', '9']"
     },
     "execution_count": 68,
     "metadata": {},
     "output_type": "execute_result"
    }
   ]
  },
  {
   "cell_type": "code",
   "metadata": {
    "id": "A0n63WKSocXc",
    "colab": {
     "base_uri": "https://localhost:8080/",
     "height": 423
    },
    "outputId": "ea917701-17ba-4eed-8dec-cd53e87f4c43"
   },
   "source": [
    "y_ = pd.get_dummies(y, columns=['y'])\n",
    "y_"
   ],
   "execution_count": 69,
   "outputs": [
    {
     "data": {
      "text/plain": "       0  1  2  3  4  5  6  7  8  9\n0      0  0  0  0  0  1  0  0  0  0\n1      1  0  0  0  0  0  0  0  0  0\n2      0  0  0  0  1  0  0  0  0  0\n3      0  1  0  0  0  0  0  0  0  0\n4      0  0  0  0  0  0  0  0  0  1\n...   .. .. .. .. .. .. .. .. .. ..\n69995  0  0  1  0  0  0  0  0  0  0\n69996  0  0  0  1  0  0  0  0  0  0\n69997  0  0  0  0  1  0  0  0  0  0\n69998  0  0  0  0  0  1  0  0  0  0\n69999  0  0  0  0  0  0  1  0  0  0\n\n[70000 rows x 10 columns]",
      "text/html": "<div>\n<style scoped>\n    .dataframe tbody tr th:only-of-type {\n        vertical-align: middle;\n    }\n\n    .dataframe tbody tr th {\n        vertical-align: top;\n    }\n\n    .dataframe thead th {\n        text-align: right;\n    }\n</style>\n<table border=\"1\" class=\"dataframe\">\n  <thead>\n    <tr style=\"text-align: right;\">\n      <th></th>\n      <th>0</th>\n      <th>1</th>\n      <th>2</th>\n      <th>3</th>\n      <th>4</th>\n      <th>5</th>\n      <th>6</th>\n      <th>7</th>\n      <th>8</th>\n      <th>9</th>\n    </tr>\n  </thead>\n  <tbody>\n    <tr>\n      <th>0</th>\n      <td>0</td>\n      <td>0</td>\n      <td>0</td>\n      <td>0</td>\n      <td>0</td>\n      <td>1</td>\n      <td>0</td>\n      <td>0</td>\n      <td>0</td>\n      <td>0</td>\n    </tr>\n    <tr>\n      <th>1</th>\n      <td>1</td>\n      <td>0</td>\n      <td>0</td>\n      <td>0</td>\n      <td>0</td>\n      <td>0</td>\n      <td>0</td>\n      <td>0</td>\n      <td>0</td>\n      <td>0</td>\n    </tr>\n    <tr>\n      <th>2</th>\n      <td>0</td>\n      <td>0</td>\n      <td>0</td>\n      <td>0</td>\n      <td>1</td>\n      <td>0</td>\n      <td>0</td>\n      <td>0</td>\n      <td>0</td>\n      <td>0</td>\n    </tr>\n    <tr>\n      <th>3</th>\n      <td>0</td>\n      <td>1</td>\n      <td>0</td>\n      <td>0</td>\n      <td>0</td>\n      <td>0</td>\n      <td>0</td>\n      <td>0</td>\n      <td>0</td>\n      <td>0</td>\n    </tr>\n    <tr>\n      <th>4</th>\n      <td>0</td>\n      <td>0</td>\n      <td>0</td>\n      <td>0</td>\n      <td>0</td>\n      <td>0</td>\n      <td>0</td>\n      <td>0</td>\n      <td>0</td>\n      <td>1</td>\n    </tr>\n    <tr>\n      <th>...</th>\n      <td>...</td>\n      <td>...</td>\n      <td>...</td>\n      <td>...</td>\n      <td>...</td>\n      <td>...</td>\n      <td>...</td>\n      <td>...</td>\n      <td>...</td>\n      <td>...</td>\n    </tr>\n    <tr>\n      <th>69995</th>\n      <td>0</td>\n      <td>0</td>\n      <td>1</td>\n      <td>0</td>\n      <td>0</td>\n      <td>0</td>\n      <td>0</td>\n      <td>0</td>\n      <td>0</td>\n      <td>0</td>\n    </tr>\n    <tr>\n      <th>69996</th>\n      <td>0</td>\n      <td>0</td>\n      <td>0</td>\n      <td>1</td>\n      <td>0</td>\n      <td>0</td>\n      <td>0</td>\n      <td>0</td>\n      <td>0</td>\n      <td>0</td>\n    </tr>\n    <tr>\n      <th>69997</th>\n      <td>0</td>\n      <td>0</td>\n      <td>0</td>\n      <td>0</td>\n      <td>1</td>\n      <td>0</td>\n      <td>0</td>\n      <td>0</td>\n      <td>0</td>\n      <td>0</td>\n    </tr>\n    <tr>\n      <th>69998</th>\n      <td>0</td>\n      <td>0</td>\n      <td>0</td>\n      <td>0</td>\n      <td>0</td>\n      <td>1</td>\n      <td>0</td>\n      <td>0</td>\n      <td>0</td>\n      <td>0</td>\n    </tr>\n    <tr>\n      <th>69999</th>\n      <td>0</td>\n      <td>0</td>\n      <td>0</td>\n      <td>0</td>\n      <td>0</td>\n      <td>0</td>\n      <td>1</td>\n      <td>0</td>\n      <td>0</td>\n      <td>0</td>\n    </tr>\n  </tbody>\n</table>\n<p>70000 rows × 10 columns</p>\n</div>"
     },
     "execution_count": 69,
     "metadata": {},
     "output_type": "execute_result"
    }
   ]
  },
  {
   "cell_type": "markdown",
   "metadata": {
    "id": "d726biJBocXj"
   },
   "source": [
    "Разделите датасет на train и validation."
   ]
  },
  {
   "cell_type": "code",
   "metadata": {
    "id": "MHNybZzdzz2i"
   },
   "source": [
    "X_ = X.to_numpy()\n",
    "y_ = y_.to_numpy()"
   ],
   "execution_count": 70,
   "outputs": []
  },
  {
   "cell_type": "code",
   "metadata": {
    "id": "VDMMhl24ocXk"
   },
   "source": [
    "mask = np.random.permutation(np.arange(y.shape[0]))\n",
    "\n",
    "X_ = X_[mask]\n",
    "y_ = y_[mask]\n",
    "\n",
    "train_shape = 50000\n",
    "X_train, X_val = X_[:train_shape , :], X_[train_shape: , :]\n",
    "y_train, y_val = y_[:train_shape, :], y_[train_shape: , :]"
   ],
   "execution_count": 71,
   "outputs": []
  },
  {
   "cell_type": "markdown",
   "metadata": {
    "id": "Kf0JJJFC7z_p"
   },
   "source": [
    "## Fit"
   ]
  },
  {
   "cell_type": "code",
   "execution_count": 78,
   "outputs": [],
   "source": [
    "def accuracy_Xy(model, X, y_true):\n",
    "    model.eval()\n",
    "    y_pred = model.forward(X)\n",
    "    return accuracy(y_true, y_pred)"
   ],
   "metadata": {
    "collapsed": false,
    "pycharm": {
     "name": "#%%\n"
    }
   }
  },
  {
   "cell_type": "code",
   "execution_count": 79,
   "outputs": [],
   "source": [
    "def block(input_size, output_size):\n",
    "    return Sequential(\n",
    "        Linear(input_size, output_size),\n",
    "        LeakyReLU(),\n",
    "        Dropout(drop_probability=0.5),\n",
    "    )"
   ],
   "metadata": {
    "collapsed": false,
    "pycharm": {
     "name": "#%%\n"
    }
   }
  },
  {
   "cell_type": "code",
   "execution_count": 80,
   "outputs": [],
   "source": [
    "def seq_by_sizes(sizes):\n",
    "    ans = []\n",
    "    for i in range(len(sizes) - 2):\n",
    "        for j in block(sizes[i - 1], sizes[i]):\n",
    "            ans.append(j)\n",
    "\n",
    "    ans.append(Linear(sizes[-2], sizes[-1]))\n",
    "    ans.append(SoftMax())\n",
    "\n",
    "    return Sequential(ans)"
   ],
   "metadata": {
    "collapsed": false,
    "pycharm": {
     "name": "#%%\n"
    }
   }
  },
  {
   "cell_type": "code",
   "metadata": {
    "id": "Kxx9Iu9C7zGX"
   },
   "source": [
    "model = Sequential(\n",
    "    block(784, 700),\n",
    "    block(700, 600),\n",
    "    block(600, 500),\n",
    "    block(500, 400),\n",
    "    block(400, 300),\n",
    "    block(300, 200),\n",
    "    block(200, 100),\n",
    "    block(100, 50),\n",
    "    block(50, 25),\n",
    "\n",
    "    Linear(25, 10),\n",
    "    SoftMax()\n",
    ")\n",
    "#\n",
    "# sizes = [784]\n",
    "# for i in range(750, 49):\n",
    "#     sizes.append(i)\n",
    "# sizes += [45, 40, 35, 30, 25, 20, 15, 10]\n",
    "# model = seq_by_sizes(sizes)\n",
    "\n",
    "criterion = CrossEntropy()\n",
    "optimizer = Adam(learning_rate_init=1e-2)"
   ],
   "execution_count": 81,
   "outputs": []
  },
  {
   "cell_type": "code",
   "metadata": {
    "id": "XTxevuGy8aiW"
   },
   "source": [
    "epochs = 50\n",
    "batch_size = 500"
   ],
   "execution_count": 82,
   "outputs": []
  },
  {
   "cell_type": "code",
   "metadata": {
    "colab": {
     "base_uri": "https://localhost:8080/",
     "height": 414
    },
    "id": "yT4VbQAX8a4A",
    "outputId": "0f0a1eec-d93d-4eb0-97d0-83a9883f0d24",
    "pycharm": {
     "is_executing": true
    }
   },
   "source": [
    "history = []\n",
    "\n",
    "for i in range(epochs):\n",
    "    for x, y_true in loader(X_train, y_train, batch_size):\n",
    "        model.train()\n",
    "\n",
    "        y_pred = model.forward(x)\n",
    "        loss = criterion.forward(y_pred, y_true)\n",
    "\n",
    "        #print(y_pred, y_true)\n",
    "        #print('SUM OF SQUARES:', np.mean(np.power(y_pred-y_true, 2)))\n",
    "\n",
    "        # backward -- считаем все градиенты в обратном порядке\n",
    "        grad = criterion.backward(y_pred, y_true)\n",
    "        model.backward(x, grad)\n",
    "\n",
    "        # обновляем веса\n",
    "        grad_clipping(model.grad_parameters(), max_clip=0.4)\n",
    "        optimizer.step(model.parameters(),\n",
    "                       model.grad_parameters())\n",
    "\n",
    "        history.append(criterion_xy_loss(model, x, y_true))\n",
    "    print('acc', accuracy_Xy(model, X_train, y_train))\n",
    "    print('los', criterion_xy_loss(model, X_train, y_train))\n",
    "plt.title(\"Training loss\")\n",
    "plt.xlabel(\"iteration\")\n",
    "plt.ylabel(\"loss\")\n",
    "plt.plot(history, 'b')\n",
    "plt.show()"
   ],
   "execution_count": null,
   "outputs": [
    {
     "name": "stdout",
     "output_type": "stream",
     "text": [
      "acc 0.08594\n",
      "los -5.220881120321846\n",
      "acc 0.13434\n",
      "los -5.720958602753417\n",
      "acc 0.13274\n",
      "los -5.87242598179923\n",
      "acc 0.10448\n",
      "los -6.184464990873898\n",
      "acc 0.10252\n",
      "los -6.199674779075089\n",
      "acc 0.10252\n",
      "los -6.199674779075089\n",
      "acc 0.10252\n",
      "los -6.199674779075089\n",
      "acc 0.08626\n",
      "los -6.311926634399593\n"
     ]
    }
   ]
  },
  {
   "cell_type": "code",
   "metadata": {
    "colab": {
     "base_uri": "https://localhost:8080/"
    },
    "id": "NwRf6py4aUOB",
    "outputId": "85e551d7-f9d0-48a9-bfc7-c484ee794902"
   },
   "source": [
    "print(np.argmax(model.forward(X_train), axis=1)[:30])\n",
    "print(np.argmax(y_train, axis=1)[:30])\n",
    "# y_pr = np.argmax(y_pred, axis=1)"
   ],
   "execution_count": 245,
   "outputs": [
    {
     "name": "stdout",
     "output_type": "stream",
     "text": [
      "[7 7 7 7 7 7 7 7 7 7 7 7 7 7 7 7 7 7 7 7 7 7 7 7 7 7 7 7 7 7]\n",
      "[0 8 2 7 8 1 7 6 7 6 2 6 7 4 5 1 2 1 6 8 9 9 1 0 6 4 9 6 1 5]\n"
     ]
    }
   ]
  },
  {
   "cell_type": "code",
   "metadata": {
    "colab": {
     "base_uri": "https://localhost:8080/"
    },
    "id": "uGjb-EQXa5O6",
    "outputId": "6eb466eb-796f-49f9-b99a-62235453086d"
   },
   "source": [
    "print(y_train.sum(axis=0))"
   ],
   "execution_count": null,
   "outputs": [
    {
     "output_type": "stream",
     "name": "stdout",
     "text": [
      "[4905 5663 5018 5073 4854 4525 4902 5241 4864 4955]\n"
     ]
    }
   ]
  },
  {
   "cell_type": "code",
   "metadata": {
    "colab": {
     "base_uri": "https://localhost:8080/"
    },
    "id": "8ElO2YZ8CsUO",
    "outputId": "4767db93-9f33-4c9e-c94b-f10f669eb61e"
   },
   "source": [
    "model.forward(X_val)[:10,:]"
   ],
   "execution_count": null,
   "outputs": [
    {
     "output_type": "execute_result",
     "data": {
      "text/plain": [
       "array([[4.78000131e-07, 4.16088226e-07, 9.99995806e-01, 3.51352613e-07,\n",
       "        4.69756537e-07, 4.14684528e-07, 2.92854386e-07, 1.12989179e-06,\n",
       "        2.74661389e-07, 3.66477779e-07],\n",
       "       [4.29136165e-07, 2.83218011e-07, 9.99997705e-01, 2.64465470e-07,\n",
       "        2.12119559e-07, 2.40787963e-07, 2.08480996e-07, 2.28210768e-07,\n",
       "        2.31813954e-07, 1.96684773e-07],\n",
       "       [1.36218705e-09, 7.01727824e-10, 9.99999994e-01, 5.22055469e-10,\n",
       "        5.99181478e-10, 5.00138649e-10, 4.67169038e-10, 9.71930170e-10,\n",
       "        5.67837853e-10, 5.62787852e-10],\n",
       "       [3.11876821e-07, 3.71646772e-07, 9.99997055e-01, 5.33213798e-07,\n",
       "        3.24334843e-07, 2.82180338e-07, 3.42621047e-07, 2.53407853e-07,\n",
       "        2.25143956e-07, 3.00355679e-07],\n",
       "       [8.86389354e-08, 5.98093755e-07, 9.99998508e-01, 1.35276493e-07,\n",
       "        1.41537002e-07, 9.73468642e-08, 9.73873657e-08, 1.42262344e-07,\n",
       "        1.06191079e-07, 8.50157887e-08],\n",
       "       [3.01697129e-07, 3.13360829e-07, 9.99997693e-01, 2.15750479e-07,\n",
       "        2.49624247e-07, 1.91767918e-07, 1.51557658e-07, 4.30184279e-07,\n",
       "        2.20837656e-07, 2.32090255e-07],\n",
       "       [1.76761899e-07, 3.36073124e-07, 9.99997781e-01, 1.90683785e-07,\n",
       "        1.96681502e-07, 1.62739137e-07, 1.31166570e-07, 6.75881062e-07,\n",
       "        1.70582113e-07, 1.78684318e-07],\n",
       "       [3.18498494e-06, 1.23658754e-06, 9.99980830e-01, 2.12837083e-06,\n",
       "        2.17628339e-06, 1.91981301e-06, 1.76327268e-06, 2.91017883e-06,\n",
       "        1.80203393e-06, 2.04844110e-06],\n",
       "       [2.22214767e-10, 2.56654875e-10, 9.99999998e-01, 3.77450162e-10,\n",
       "        1.41614911e-10, 1.51698698e-10, 1.07108502e-10, 2.24665311e-10,\n",
       "        1.11122843e-10, 1.24859878e-10],\n",
       "       [5.86840798e-06, 1.22586319e-05, 9.99936209e-01, 7.02683350e-06,\n",
       "        6.12823178e-06, 5.54823433e-06, 5.42949755e-06, 1.08357771e-05,\n",
       "        5.10192324e-06, 5.59304461e-06]])"
      ]
     },
     "metadata": {},
     "execution_count": 367
    }
   ]
  },
  {
   "cell_type": "markdown",
   "metadata": {
    "id": "XHv3CVCIocXo"
   },
   "source": [
    "Теперь напишите модель и train loop. Можете начать с адаптации предыдущего примера.\n",
    "\n",
    "Дальше начинается творческая часть и настоящий Deep Learning:\n",
    "* поиграйтесь с архитектурами;\n",
    "* поиграйтесь с learning rate и batch_size;\n",
    "* сделайте learning rate decay;\n",
    "* сделайте data augmentation.\n",
    "\n",
    "Have fun. Дедлайн — не две недели, а до конца курса."
   ]
  },
  {
   "cell_type": "code",
   "metadata": {
    "id": "q4XW6uFEocXp"
   },
   "source": [
    "# ..."
   ],
   "execution_count": null,
   "outputs": []
  },
  {
   "cell_type": "code",
   "metadata": {
    "id": "EHGcq3iMocXs"
   },
   "source": [
    "# ..."
   ],
   "execution_count": null,
   "outputs": []
  },
  {
   "cell_type": "code",
   "metadata": {
    "id": "-Y4WCwbfFcnD"
   },
   "source": [
    ""
   ],
   "execution_count": null,
   "outputs": []
  }
 ]
}