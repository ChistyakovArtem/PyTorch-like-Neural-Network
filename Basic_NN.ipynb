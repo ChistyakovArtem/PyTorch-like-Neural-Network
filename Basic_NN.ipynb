{
  "nbformat": 4,
  "nbformat_minor": 0,
  "metadata": {
    "kernelspec": {
      "display_name": "Python 3",
      "language": "python",
      "name": "python3"
    },
    "language_info": {
      "codemirror_mode": {
        "name": "ipython",
        "version": 3
      },
      "file_extension": ".py",
      "mimetype": "text/x-python",
      "name": "python",
      "nbconvert_exporter": "python",
      "pygments_lexer": "ipython3",
      "version": "3.6.7"
    },
    "colab": {
      "name": "basic_NN.ipynb",
      "provenance": [],
      "collapsed_sections": []
    }
  },
  "cells": [
    {
      "cell_type": "markdown",
      "metadata": {
        "id": "qUulnIvKb8yr"
      },
      "source": [
        "## My Framework Classes"
      ]
    },
    {
      "cell_type": "code",
      "metadata": {
        "id": "EP44XZgfc4Vx"
      },
      "source": [
        "import numpy as np"
      ],
      "execution_count": 1,
      "outputs": []
    },
    {
      "cell_type": "code",
      "metadata": {
        "id": "t65CLn1kc7kB"
      },
      "source": [
        "class Module():\n",
        "    def __init__(self):\n",
        "        self._train = True\n",
        "    \n",
        "    def forward(self, input):\n",
        "        raise NotImplementedError\n",
        "\n",
        "    def backward(self,input, grad_output):\n",
        "        raise NotImplementedError\n",
        "    \n",
        "    def parameters(self):\n",
        "        return []\n",
        "    \n",
        "    def grad_parameters(self):\n",
        "        return []\n",
        "    \n",
        "    def train(self):\n",
        "        self._train = True\n",
        "    \n",
        "    def eval(self):\n",
        "        self._train = False"
      ],
      "execution_count": 2,
      "outputs": []
    },
    {
      "cell_type": "code",
      "metadata": {
        "id": "XBmP7UCkdJA9"
      },
      "source": [
        "class Sequential(Module):\n",
        "    def __init__ (self, *layers):\n",
        "        super().__init__()\n",
        "        self.layers = layers\n",
        "\n",
        "    def forward(self, input):\n",
        "\n",
        "        for layer in self.layers:\n",
        "            input = layer.forward(input)\n",
        "\n",
        "        self.output = input\n",
        "        return self.output\n",
        "        \n",
        "        for i in range(len(self.layers)-1, 0, -1):\n",
        "            grad_output = self.layers[i].backward(self.layers[i-1].output, grad_output)\n",
        "        \n",
        "        grad_input = self.layers[0].backward(input, grad_output)\n",
        "        \n",
        "        return grad_input\n",
        "\n",
        "    def backward(self, input, grad_output):    \n",
        "        for i in range(len(self.layers)-1, 0, -1):\n",
        "            grad_output = self.layers[i].backward(self.layers[i-1].output, grad_output)\n",
        "        \n",
        "        grad_input = self.layers[0].backward(input, grad_output)\n",
        "        \n",
        "        return grad_input  \n",
        "    \n",
        "    def parameters(self):\n",
        "        res = []\n",
        "        for l in self.layers:\n",
        "            res += l.parameters()\n",
        "        return res\n",
        "    \n",
        "    def grad_parameters(self):\n",
        "        res = []\n",
        "        for l in self.layers:\n",
        "            res += l.grad_parameters()\n",
        "        return res\n",
        "    \n",
        "    def train(self):\n",
        "        for layer in self.layers:\n",
        "            layer.train()\n",
        "    \n",
        "    def eval(self):\n",
        "        for layer in self.layers:\n",
        "            layer.eval()"
      ],
      "execution_count": 3,
      "outputs": []
    },
    {
      "cell_type": "code",
      "metadata": {
        "id": "KZnkScAUdLUK"
      },
      "source": [
        "class Linear(Module):\n",
        "    def __init__(self, dim_in, dim_out):\n",
        "        super().__init__()\n",
        "        \n",
        "        stdv = 1./np.sqrt(dim_in)\n",
        "        self.W = np.random.uniform(-stdv, stdv, size=(dim_in, dim_out))\n",
        "        self.b = np.random.uniform(-stdv, stdv, size=dim_out)\n",
        "\n",
        "        self.grad_W = None\n",
        "        self.grad_b = None\n",
        "        \n",
        "    def forward(self, input):\n",
        "        self.output = np.dot(input, self.W) + self.b\n",
        "        return self.output\n",
        "    \n",
        "    def backward(self, input, grad_output):\n",
        "        self.grad_b = np.mean(grad_output, axis=0)\n",
        "        \n",
        "        self.grad_W = np.dot(input.T, grad_output)\n",
        "        \n",
        "        grad_input = np.dot(grad_output, self.W.T)\n",
        "        \n",
        "        return grad_input\n",
        "    \n",
        "    def parameters(self):\n",
        "        return [self.W, self.b]\n",
        "    \n",
        "    def grad_parameters(self):\n",
        "        return [self.grad_W, self.grad_b]"
      ],
      "execution_count": 4,
      "outputs": []
    },
    {
      "cell_type": "code",
      "metadata": {
        "id": "013EdZFAdM8z"
      },
      "source": [
        "class ReLU(Module):\n",
        "    def __init__(self):\n",
        "         super().__init__()\n",
        "    \n",
        "    def forward(self, input):\n",
        "        self.output = np.maximum(input, 0)\n",
        "        return self.output\n",
        "    \n",
        "    def backward(self, input, grad_output):\n",
        "        grad_input = np.multiply(grad_output, input > 0)\n",
        "        return grad_input"
      ],
      "execution_count": 5,
      "outputs": []
    },
    {
      "cell_type": "code",
      "metadata": {
        "id": "ecCIdxzXdOiC"
      },
      "source": [
        "class LeakyReLU(Module):\n",
        "    def __init__(self, slope=0.03):\n",
        "        super().__init__()\n",
        "            \n",
        "        self.slope = slope\n",
        "        \n",
        "    def forward(self, input):\n",
        "        self.output = self.slope*input + (1 - self.slope) * np.maximum(input, 0)\n",
        "        return self.output\n",
        "    \n",
        "    def backward(self, input, grad_output):\n",
        "        grad_input = np.multiply(grad_output, input > 0) + np.multiply(grad_output * self.slope, input <= 0)\n",
        "        return grad_input"
      ],
      "execution_count": 6,
      "outputs": []
    },
    {
      "cell_type": "code",
      "metadata": {
        "id": "-xs8fb7xdSd_"
      },
      "source": [
        "class Sigmoid(Module):\n",
        "    def __init__(self):\n",
        "        super().__init__()\n",
        "\n",
        "    def forward(self, input):\n",
        "        self.output = 1 / (1 + np.exp(-input))\n",
        "        return self.output\n",
        "    \n",
        "    def backward(self, input, grad_output):\n",
        "        grad_input = np.multiply(input * (1 - input), grad_output)\n",
        "        return grad_input"
      ],
      "execution_count": 7,
      "outputs": []
    },
    {
      "cell_type": "code",
      "metadata": {
        "id": "OAoirs-DdUFP"
      },
      "source": [
        "class SoftMax(Module):\n",
        "    def __init__(self):\n",
        "         super().__init__()\n",
        "    \n",
        "    def forward(self, input):\n",
        "        input = np.subtract(input, input.max(axis=1, keepdims=True))\n",
        "        exps = np.exp(input)\n",
        "        self.output = np.true_divide(exps, np.sum(exps, axis=1)[:, None])\n",
        "        return self.output\n",
        "\n",
        "\n",
        "    def backward(self, input, grad_output):\n",
        "        batch_size = input.shape[0]\n",
        "        s = self.output\n",
        "        grad_local = -s[..., None] * s[:, None, :]\n",
        "        iy, ix = np.diag_indices_from(grad_local[0])\n",
        "        grad_local[:, iy, ix] = s * (1 - s)\n",
        "        \n",
        "        for i in range(grad_local.shape[0]):\n",
        "            grad_local[i] = grad_local[i] * grad_output[i]\n",
        "    \n",
        "        grad_input = np.sum(grad_local, 2).reshape(batch_size, -1)\n",
        "        grad_input = grad_input\n",
        "        return grad_input"
      ],
      "execution_count": 8,
      "outputs": []
    },
    {
      "cell_type": "code",
      "metadata": {
        "id": "hdm80EqpTCAq"
      },
      "source": [
        "import torch\n",
        "import torch.nn as nn\n",
        "my_sm = SoftMax()\n",
        "torch_sm = nn.Softmax()"
      ],
      "execution_count": 9,
      "outputs": []
    },
    {
      "cell_type": "code",
      "metadata": {
        "colab": {
          "base_uri": "https://localhost:8080/"
        },
        "id": "yWaSeM5YUKSZ",
        "outputId": "e9c5c53a-c225-4e2a-bfd2-82d0297a97c0"
      },
      "source": [
        "my_data = np.random.rand(10, 4) * 10\n",
        "torch_data = torch.tensor(my_data, requires_grad=True)\n",
        "print(my_data)\n",
        "print(torch_data)"
      ],
      "execution_count": 10,
      "outputs": [
        {
          "output_type": "stream",
          "name": "stdout",
          "text": [
            "[[8.4812987  4.19019668 1.05606188 9.42245453]\n",
            " [7.37586809 2.080132   2.25869158 9.76378114]\n",
            " [7.24065249 4.83019444 7.49909749 2.50664918]\n",
            " [4.93602496 4.48927482 5.6458038  1.30299169]\n",
            " [2.41289203 6.46126754 0.37580657 8.96341523]\n",
            " [8.37761021 6.76742746 6.15258441 8.41909792]\n",
            " [6.37539742 5.93914241 9.7861383  6.42443746]\n",
            " [8.93631624 4.51221087 6.26620317 6.31379656]\n",
            " [7.23668375 2.24882669 4.39513276 0.65979274]\n",
            " [3.88423583 7.36284684 4.71135018 2.23578532]]\n",
            "tensor([[8.4813, 4.1902, 1.0561, 9.4225],\n",
            "        [7.3759, 2.0801, 2.2587, 9.7638],\n",
            "        [7.2407, 4.8302, 7.4991, 2.5066],\n",
            "        [4.9360, 4.4893, 5.6458, 1.3030],\n",
            "        [2.4129, 6.4613, 0.3758, 8.9634],\n",
            "        [8.3776, 6.7674, 6.1526, 8.4191],\n",
            "        [6.3754, 5.9391, 9.7861, 6.4244],\n",
            "        [8.9363, 4.5122, 6.2662, 6.3138],\n",
            "        [7.2367, 2.2488, 4.3951, 0.6598],\n",
            "        [3.8842, 7.3628, 4.7114, 2.2358]], dtype=torch.float64,\n",
            "       requires_grad=True)\n"
          ]
        }
      ]
    },
    {
      "cell_type": "code",
      "metadata": {
        "colab": {
          "base_uri": "https://localhost:8080/"
        },
        "id": "qF-r2JajiNjt",
        "outputId": "bebc2a84-acb0-4ff3-ed8d-50ec4e991e5a"
      },
      "source": [
        "torch_ans = torch_sm(torch_data)\n",
        "torch_ans"
      ],
      "execution_count": 11,
      "outputs": [
        {
          "output_type": "stream",
          "name": "stderr",
          "text": [
            "/usr/local/lib/python3.7/dist-packages/ipykernel_launcher.py:1: UserWarning: Implicit dimension choice for softmax has been deprecated. Change the call to include dim=X as an argument.\n",
            "  \"\"\"Entry point for launching an IPython kernel.\n"
          ]
        },
        {
          "output_type": "execute_result",
          "data": {
            "text/plain": [
              "tensor([[2.7955e-01, 3.8269e-03, 1.6661e-04, 7.1646e-01],\n",
              "        [8.4021e-02, 4.2119e-04, 5.0353e-04, 9.1505e-01],\n",
              "        [4.1780e-01, 3.7508e-02, 5.4102e-01, 3.6730e-03],\n",
              "        [2.7029e-01, 1.7291e-01, 5.4965e-01, 7.1454e-03],\n",
              "        [1.3192e-03, 7.5595e-02, 1.7203e-04, 9.2291e-01],\n",
              "        [4.2548e-01, 8.5033e-02, 4.5980e-02, 4.4351e-01],\n",
              "        [3.0317e-02, 1.9599e-02, 9.1824e-01, 3.1841e-02],\n",
              "        [8.6666e-01, 1.0387e-02, 6.0012e-02, 6.2937e-02],\n",
              "        [9.3760e-01, 6.3947e-03, 5.4695e-02, 1.3053e-03],\n",
              "        [2.7860e-02, 9.0307e-01, 6.3708e-02, 5.3588e-03]], dtype=torch.float64,\n",
              "       grad_fn=<SoftmaxBackward0>)"
            ]
          },
          "metadata": {},
          "execution_count": 11
        }
      ]
    },
    {
      "cell_type": "code",
      "metadata": {
        "colab": {
          "base_uri": "https://localhost:8080/"
        },
        "id": "aCNX_3p0UjGk",
        "outputId": "332b122a-d16f-4adf-e16b-5a0c10fbeb2c"
      },
      "source": [
        "t = torch.sum(torch_ans)\n",
        "t"
      ],
      "execution_count": 12,
      "outputs": [
        {
          "output_type": "execute_result",
          "data": {
            "text/plain": [
              "tensor(10., dtype=torch.float64, grad_fn=<SumBackward0>)"
            ]
          },
          "metadata": {},
          "execution_count": 12
        }
      ]
    },
    {
      "cell_type": "code",
      "metadata": {
        "colab": {
          "base_uri": "https://localhost:8080/"
        },
        "id": "QPMTNErIWkwj",
        "outputId": "66ccd177-2c8c-4b1d-d580-9212d4227328"
      },
      "source": [
        "t.grad_fn"
      ],
      "execution_count": 13,
      "outputs": [
        {
          "output_type": "execute_result",
          "data": {
            "text/plain": [
              "<SumBackward0 at 0x7fa9f2b99810>"
            ]
          },
          "metadata": {},
          "execution_count": 13
        }
      ]
    },
    {
      "cell_type": "code",
      "metadata": {
        "id": "VXV7Of0VX8bB"
      },
      "source": [
        "t.backward()"
      ],
      "execution_count": 14,
      "outputs": []
    },
    {
      "cell_type": "code",
      "metadata": {
        "id": "3GAzMyn4X_JF",
        "colab": {
          "base_uri": "https://localhost:8080/"
        },
        "outputId": "facee0b2-7c55-4ce5-ac0d-0b78fb5bd5fc"
      },
      "source": [
        "t.grad"
      ],
      "execution_count": 15,
      "outputs": [
        {
          "output_type": "stream",
          "name": "stderr",
          "text": [
            "/usr/local/lib/python3.7/dist-packages/torch/_tensor.py:1013: UserWarning: The .grad attribute of a Tensor that is not a leaf Tensor is being accessed. Its .grad attribute won't be populated during autograd.backward(). If you indeed want the .grad field to be populated for a non-leaf Tensor, use .retain_grad() on the non-leaf Tensor. If you access the non-leaf Tensor by mistake, make sure you access the leaf Tensor instead. See github.com/pytorch/pytorch/pull/30531 for more informations. (Triggered internally at  aten/src/ATen/core/TensorBody.h:417.)\n",
            "  return self._grad\n"
          ]
        }
      ]
    },
    {
      "cell_type": "code",
      "execution_count": 16,
      "outputs": [
        {
          "output_type": "execute_result",
          "data": {
            "text/plain": [
              "(10,)"
            ]
          },
          "metadata": {},
          "execution_count": 16
        }
      ],
      "source": [
        "np.random.binomial(1, 0.9, size=[10]).shape"
      ],
      "metadata": {
        "pycharm": {
          "name": "#%%\n"
        },
        "colab": {
          "base_uri": "https://localhost:8080/"
        },
        "id": "2Zhwd7vC7T-d",
        "outputId": "d941a8a3-8bc0-4957-89a1-c8ccae50f3b8"
      }
    },
    {
      "cell_type": "code",
      "metadata": {
        "id": "a3pJHZg2dV51"
      },
      "source": [
        "class Dropout(Module):\n",
        "    def __init__(self, drop_probability=0.5):\n",
        "        super().__init__()\n",
        "\n",
        "        self.output = None\n",
        "        self.proba_zero = drop_probability\n",
        "        self.proba_one = 1 - drop_probability\n",
        "\n",
        "        self.mask = None\n",
        "\n",
        "    def forward(self, input):\n",
        "        if self._train:\n",
        "            self.mask = np.repeat(np.random.binomial(1, p=self.proba_one,\n",
        "                                                     size=[input.shape[0], 1]), input.shape[1], axis=1)\n",
        "            self.output = input * self.mask\n",
        "        else:\n",
        "            self.output = input * self.proba_one\n",
        "        return self.output\n",
        "    \n",
        "    def backward(self, input, grad_output):\n",
        "        if self._train:\n",
        "            grad_input = self.mask * grad_output * (1 / self.proba_one)\n",
        "        else:\n",
        "            grad_input = None\n",
        "        return grad_input"
      ],
      "execution_count": 17,
      "outputs": []
    },
    {
      "cell_type": "code",
      "metadata": {
        "id": "WA52MPwydXwf"
      },
      "source": [
        "class BatchNorm(Module):\n",
        "    def __init__(self, gamma, momentum=1):\n",
        "        super().__init__()\n",
        "        self.gamma = gamma\n",
        "        self.mu = 0\n",
        "        self.sigma = 1\n",
        "        self.bias = np.random.uniform(low=-1, high=1)\n",
        "        self.eps = 1e-8\n",
        "        self.momentum = momentum\n",
        "    \n",
        "    def forward(self, input):\n",
        "        if self._train:\n",
        "            new_mu = np.mean(input, axis=0)\n",
        "            new_sigma = np.var(input, axis=0)\n",
        "\n",
        "            self.input_norm = (input - new_mu) / np.sqrt(new_sigma + self.eps)\n",
        "            self.output = self.gamma * self.input_norm + self.bias\n",
        "\n",
        "            self.mu = (1 - self.momentum) * self.mu + self.momentum * new_mu\n",
        "            self.sigma = (1 - self.momentum) * self.sigma + self.momentum * new_sigma\n",
        "        else:\n",
        "            input_norm = (input - self.mu) / np.sqrt(self.sigma + self.eps)\n",
        "            self.output = self.gamma * input_norm + self.bias\n",
        "\n",
        "        return self.output\n",
        "    \n",
        "    def backward(self, input, grad_output):\n",
        "        if self._train:\n",
        "            self.grad_bias = np.sum(grad_output, axis=0)\n",
        "            self.grad_gamma = np.sum(grad_output*self.input_norm, axis=0)\n",
        "\n",
        "            m = input.shape[0]\n",
        "            t = 1./np.sqrt(self.sigma + self.eps)\n",
        "\n",
        "            grad_input = (self.gamma * t / m) * (m * grad_output - np.sum(grad_output, axis=0) \n",
        "            - t**2 * (input - self.mu) * np.sum(grad_output*(grad_output - self.mu), axis=0))\n",
        "        else:\n",
        "            grad_input = None\n",
        "        return grad_input\n",
        "\n",
        "    def parameters(self):\n",
        "        return [self.bias, self.gamma]\n",
        "\n",
        "    def grad_parameters(self):\n",
        "        return [self.grad_bias, self.grad_gamma]"
      ],
      "execution_count": 18,
      "outputs": []
    },
    {
      "cell_type": "code",
      "metadata": {
        "id": "p0VWFJkrdZQo"
      },
      "source": [
        "class Criterion:\n",
        "    def forward(self, input, target):\n",
        "        raise NotImplementedError\n",
        "\n",
        "    def backward(self, input, target):\n",
        "        raise NotImplementedError"
      ],
      "execution_count": 19,
      "outputs": []
    },
    {
      "cell_type": "code",
      "execution_count": 20,
      "outputs": [],
      "source": [
        "class MSE(Criterion):\n",
        "    def forward(self, input, target):\n",
        "        batch_size = input.shape[0]\n",
        "        self.output = np.sum(np.power(input - target, 2)) / batch_size\n",
        "        return self.output\n",
        "\n",
        "    def backward(self, input, target):\n",
        "        grad_input = (input - target) * 2 / input.shape[0]\n",
        "        return grad_input"
      ],
      "metadata": {
        "pycharm": {
          "name": "#%%\n"
        },
        "id": "DPcPQXPT7T-d"
      }
    },
    {
      "cell_type": "code",
      "execution_count": 21,
      "outputs": [],
      "source": [
        "class CrossEntropy(Criterion):\n",
        "    def __init__(self):\n",
        "        super().__init__()\n",
        "\n",
        "    def forward(self, input, target):\n",
        "        # чтобы нигде не было взятий логарифма от нуля:\n",
        "        eps = 1e-3\n",
        "        input_clamp = np.clip(input, eps, 1 - eps)\n",
        "\n",
        "        self.output = np.mean(np.sum(target * np.log(input_clamp), axis=1), axis=None)\n",
        "        return self.output\n",
        "\n",
        "    def backward(self, input, target):\n",
        "        eps = 1e-3\n",
        "        input_clamp = np.clip(input, eps, 1 - eps)\n",
        "\n",
        "        grad_input = input_clamp - target\n",
        "        return grad_input"
      ],
      "metadata": {
        "pycharm": {
          "name": "#%%\n"
        },
        "id": "xP8eyRwI7T-e"
      }
    },
    {
      "cell_type": "code",
      "execution_count": 22,
      "outputs": [],
      "source": [
        "class Optimizer:\n",
        "    def __init__(self):\n",
        "        pass\n",
        "\n",
        "    def step(self, params, gradients):\n",
        "        pass"
      ],
      "metadata": {
        "pycharm": {
          "name": "#%%\n"
        },
        "id": "gF-yk_xj7T-e"
      }
    },
    {
      "cell_type": "code",
      "execution_count": 23,
      "outputs": [],
      "source": [
        "class SGD(Optimizer):\n",
        "    def __init__(self, learning_rate_init=1e-3):\n",
        "        super().__init__()\n",
        "        self.learning_rate = learning_rate_init\n",
        "\n",
        "    def step(self, params, gradients):\n",
        "        for weights, gradient in zip(params, gradients):\n",
        "            weights -= self.learning_rate * gradient"
      ],
      "metadata": {
        "pycharm": {
          "name": "#%%\n"
        },
        "id": "UcS04sR97T-e"
      }
    },
    {
      "cell_type": "code",
      "execution_count": 24,
      "outputs": [],
      "source": [
        "class Adam(Optimizer):\n",
        "    def __init__(self, b1=0.9, b2=0.999, epsilon=1e-5, learning_rate_init=1e-3):\n",
        "        super().__init__()\n",
        "        self.num_optimizers = None\n",
        "        self.learning_rate = learning_rate_init\n",
        "        self.b1 = b1\n",
        "        self.b2 = b2\n",
        "        self.epsilon = epsilon\n",
        "        self.total_calls = 1\n",
        "\n",
        "        self.m = None\n",
        "        self.v = None\n",
        "\n",
        "    def step(self, params, gradients):\n",
        "        it = 0\n",
        "        if self.m is None:\n",
        "            self.m = [0] * len(params)\n",
        "            self.v = [0] * len(params)\n",
        "\n",
        "        for weights, gradient in zip(params, gradients):\n",
        "            self.m[it] = self.b1 * self.m[it] + (1 - self.b1) * gradient\n",
        "            self.v[it] = self.b2 * self.v[it] + (1 - self.b2) * gradient**2\n",
        "\n",
        "            m_hat = self.m[it] / (1 - np.power(self.b1, self.total_calls))\n",
        "            v_hat = self.v[it] / (1 - np.power(self.b2, self.total_calls))\n",
        "\n",
        "            weights -= self.learning_rate * m_hat / (np.sqrt(v_hat) + self.epsilon)\n",
        "\n",
        "            it += 1\n",
        "\n",
        "        self.total_calls += 1"
      ],
      "metadata": {
        "pycharm": {
          "name": "#%%\n"
        },
        "id": "Ogb0toFx7T-e"
      }
    },
    {
      "cell_type": "markdown",
      "source": [
        "## DataLoader and gradient clipping"
      ],
      "metadata": {
        "collapsed": false,
        "id": "OIraMT1q7T-e"
      }
    },
    {
      "cell_type": "code",
      "execution_count": 25,
      "outputs": [],
      "source": [
        "import numpy as np\n",
        "import matplotlib.pyplot as plt"
      ],
      "metadata": {
        "pycharm": {
          "name": "#%%\n"
        },
        "id": "W8TJVgTC7T-f"
      }
    },
    {
      "cell_type": "code",
      "metadata": {
        "id": "pOZs3Sk8DcJ2"
      },
      "source": [
        "def grad_clipping(gradients, max_clip=1):\n",
        "    # ans = []\n",
        "    for gradient in gradients:\n",
        "        gradient.clip(0, 0)\n",
        "    # return ans"
      ],
      "execution_count": 26,
      "outputs": []
    },
    {
      "cell_type": "code",
      "metadata": {
        "id": "jDmJKg8hocWi"
      },
      "source": [
        "def loader(X, Y, batch_size):    \n",
        "    n = X.shape[0]\n",
        "\n",
        "    indices = np.arange(n)\n",
        "    np.random.shuffle(indices)\n",
        "    \n",
        "    for start in range(0, n, batch_size):\n",
        "        end = min(start + batch_size, n)\n",
        "        \n",
        "        batch_idx = indices[start:end]\n",
        "    \n",
        "        yield X[batch_idx], Y[batch_idx]"
      ],
      "execution_count": 27,
      "outputs": []
    },
    {
      "cell_type": "markdown",
      "metadata": {
        "id": "MLPP2pyMocWn"
      },
      "source": [
        "## Regression problem"
      ]
    },
    {
      "cell_type": "code",
      "metadata": {
        "scrolled": true,
        "id": "i2oHX9NQocWo",
        "colab": {
          "base_uri": "https://localhost:8080/"
        },
        "outputId": "dd8cff79-eb64-4df6-a395-3111c9a0314e"
      },
      "source": [
        "n = 1000\n",
        "\n",
        "X = np.random.randn(n, 10)\n",
        "true_w = np.random.randn(10, 1)\n",
        "Y = (np.dot(X, true_w).reshape(n) + np.random.randn(n)/5).reshape(n, 1)\n",
        "\n",
        "print('best_possible_mse:', np.mean(np.power(Y-np.dot(X, true_w).reshape(n), 2)))"
      ],
      "execution_count": 28,
      "outputs": [
        {
          "output_type": "stream",
          "name": "stdout",
          "text": [
            "best_possible_mse: 22.705255493608096\n"
          ]
        }
      ]
    },
    {
      "cell_type": "code",
      "metadata": {
        "id": "4O4m1wH2o15J"
      },
      "source": [
        "epochs = 20\n",
        "batch_size = 1000\n",
        "learning_rate = 1e-2"
      ],
      "execution_count": 29,
      "outputs": []
    },
    {
      "cell_type": "code",
      "metadata": {
        "id": "iK6EdY0-LVfG"
      },
      "source": [
        "def block(input_size, output_size):\n",
        "    return Sequential(\n",
        "        Linear(input_size, output_size),\n",
        "        LeakyReLU(),\n",
        "        Dropout(drop_probability=0.3)\n",
        "    )"
      ],
      "execution_count": 30,
      "outputs": []
    },
    {
      "cell_type": "code",
      "metadata": {
        "id": "YFSKPjVNBE4U",
        "pycharm": {
          "name": "#%%\n"
        }
      },
      "source": [
        "model = Sequential(\n",
        "    block(10, 5),\n",
        "    block(5, 3),\n",
        "    Linear(3, 1)\n",
        ")\n",
        "\n",
        "criterion = MSE()"
      ],
      "execution_count": 31,
      "outputs": []
    },
    {
      "cell_type": "code",
      "execution_count": 32,
      "outputs": [],
      "source": [
        "optimizer = Adam(learning_rate_init=learning_rate)"
      ],
      "metadata": {
        "pycharm": {
          "name": "#%%\n"
        },
        "id": "TQkMP_r07T-h"
      }
    },
    {
      "cell_type": "code",
      "execution_count": 33,
      "outputs": [],
      "source": [
        "def criterion_xy_loss(model, X, y_true):\n",
        "    model.eval()\n",
        "    y_pred = model.forward(X)\n",
        "    return criterion.forward(y_pred, y_true)"
      ],
      "metadata": {
        "pycharm": {
          "name": "#%%\n"
        },
        "id": "YniYcS7J7T-i"
      }
    },
    {
      "cell_type": "code",
      "metadata": {
        "id": "8NHCVPRiocW4",
        "colab": {
          "base_uri": "https://localhost:8080/",
          "height": 469
        },
        "outputId": "e08017e6-38b8-4108-9eae-22392ba7faa4"
      },
      "source": [
        "history = []\n",
        "\n",
        "for i in range(1000):\n",
        "    for x, y_true in loader(X, Y, batch_size):\n",
        "        # forward -- считаем все значения до функции потерь\n",
        "        model.train()\n",
        "\n",
        "        y_pred = model.forward(x)\n",
        "        loss = criterion.forward(y_pred, y_true)\n",
        "        \n",
        "        #print(y_pred, y_true)\n",
        "        #print('SUM OF SQUARES:', np.mean(np.power(y_pred-y_true, 2)))\n",
        "    \n",
        "        # backward -- считаем все градиенты в обратном порядке\n",
        "        grad = criterion.backward(y_pred, y_true)\n",
        "        model.backward(x, grad)\n",
        "        \n",
        "        # обновляем веса\n",
        "        grad_clipping(model.grad_parameters(), max_clip=0)\n",
        "        optimizer.step(model.parameters(),\n",
        "                       model.grad_parameters())\n",
        "\n",
        "\n",
        "        history.append(criterion_xy_loss(model, x, y_true))\n",
        "    if i % 100 == 0:\n",
        "        print(i, history[-1])\n",
        "\n",
        "    \n",
        "plt.title(\"Training loss\")\n",
        "plt.xlabel(\"iteration\")\n",
        "plt.ylabel(\"loss\")\n",
        "plt.plot(history[:], 'b')\n",
        "plt.show()"
      ],
      "execution_count": 34,
      "outputs": [
        {
          "output_type": "stream",
          "name": "stdout",
          "text": [
            "0 11.545226859537589\n",
            "100 2.9931425081440777\n",
            "200 3.0118221419455873\n",
            "300 3.0093565931411645\n",
            "400 3.0150009265612745\n",
            "500 3.0405306698242804\n",
            "600 3.013485270505981\n",
            "700 3.019105266517174\n",
            "800 3.005077075589724\n",
            "900 2.9808719284437597\n"
          ]
        },
        {
          "output_type": "display_data",
          "data": {
            "text/plain": [
              "<Figure size 432x288 with 1 Axes>"
            ],
            "image/png": "[encoded data removed]"
          },
          "metadata": {
            "needs_background": "light"
          }
        }
      ]
    },
    {
      "cell_type": "markdown",
      "source": [
        "## Classification problem"
      ],
      "metadata": {
        "id": "RqdQJyzb-eCx"
      }
    },
    {
      "cell_type": "code",
      "metadata": {
        "scrolled": false,
        "id": "Vy-6IgGWocW9",
        "colab": {
          "base_uri": "https://localhost:8080/",
          "height": 268
        },
        "outputId": "c4018566-d620-40bc-b04d-8e4fe38b535b"
      },
      "source": [
        "n = 500\n",
        "\n",
        "X1 = np.random.randn(n, 2) + np.array([2, 2])\n",
        "X2 = np.random.randn(n, 2) + np.array([-2, -2])\n",
        "X = np.vstack([X1, X2])\n",
        "\n",
        "Y = np.concatenate([np.ones(n), np.zeros(n)])[:, None]\n",
        "Y = np.hstack([Y, 1-Y])\n",
        "\n",
        "plt.scatter(X[:,0], X[:,1], c=Y[:,0])\n",
        "plt.show()"
      ],
      "execution_count": 74,
      "outputs": [
        {
          "output_type": "display_data",
          "data": {
            "text/plain": [
              "<Figure size 432x288 with 1 Axes>"
            ],
            "image/png": "[encoded data removed]"
          },
          "metadata": {
            "needs_background": "light"
          }
        }
      ]
    },
    {
      "cell_type": "code",
      "execution_count": 75,
      "outputs": [],
      "source": [
        "def block(input_size, output_size):\n",
        "    return Sequential(\n",
        "        Linear(input_size, output_size),\n",
        "        ReLU(),\n",
        "        Dropout(drop_probability=0.5)\n",
        "    )"
      ],
      "metadata": {
        "pycharm": {
          "name": "#%%\n"
        },
        "id": "vuayLMqR7T-j"
      }
    },
    {
      "cell_type": "code",
      "execution_count": 76,
      "outputs": [],
      "source": [
        "model = Sequential(\n",
        "    block(2, 100),\n",
        "    block(100, 150),\n",
        "    block(150, 100),\n",
        "    block(100, 50),\n",
        "    block(50, 30),\n",
        "    block(30, 10),\n",
        "    block(10, 5),\n",
        "\n",
        "    Linear(5, 2),\n",
        "    SoftMax()\n",
        ")\n",
        "\n",
        "criterion = CrossEntropy()"
      ],
      "metadata": {
        "pycharm": {
          "name": "#%%\n"
        },
        "id": "e_bw9nUX7T-j"
      }
    },
    {
      "cell_type": "code",
      "execution_count": 77,
      "outputs": [],
      "source": [
        "model = Sequential(\n",
        "    Linear(2, 2),\n",
        "    SoftMax()\n",
        ")\n",
        "criterion = CrossEntropy()"
      ],
      "metadata": {
        "pycharm": {
          "name": "#%%\n"
        },
        "id": "PWs_QF_07T-j"
      }
    },
    {
      "cell_type": "code",
      "execution_count": 78,
      "outputs": [],
      "source": [
        "optimizer = Adam(learning_rate_init=learning_rate)"
      ],
      "metadata": {
        "pycharm": {
          "name": "#%%\n"
        },
        "id": "eQFR3KBG7T-k"
      }
    },
    {
      "cell_type": "code",
      "metadata": {
        "id": "KIk7RXUrocXJ"
      },
      "source": [
        "epochs = 100\n",
        "batch_size = 20\n",
        "learning_rate = 1e-2"
      ],
      "execution_count": 79,
      "outputs": []
    },
    {
      "cell_type": "code",
      "metadata": {
        "scrolled": false,
        "id": "6RU473D9ocXN",
        "colab": {
          "base_uri": "https://localhost:8080/",
          "height": 295
        },
        "outputId": "1111e996-1811-4527-90d1-ea219344e051"
      },
      "source": [
        "history = []\n",
        "\n",
        "for i in range(epochs):\n",
        "    for x, y_true in loader(X, Y, batch_size):\n",
        "        model.train()\n",
        "\n",
        "        y_pred = model.forward(x)\n",
        "        loss = criterion.forward(y_pred, y_true)\n",
        "\n",
        "        grad = criterion.backward(y_pred, y_true)\n",
        "        model.backward(x, grad)\n",
        "\n",
        "        # обновляем веса\n",
        "        grad_clipping(model.grad_parameters(), max_clip=0)\n",
        "        optimizer.step(model.parameters(),\n",
        "                       model.grad_parameters())\n",
        "\n",
        "\n",
        "        history.append(1 - criterion_xy_loss(model, x, y_true))\n",
        "\n",
        "plt.title(\"Training loss\")\n",
        "plt.xlabel(\"iteration\")\n",
        "plt.ylabel(\"loss\")\n",
        "plt.plot(history, 'b')\n",
        "plt.show()"
      ],
      "execution_count": 80,
      "outputs": [
        {
          "output_type": "display_data",
          "data": {
            "text/plain": [
              "<Figure size 432x288 with 1 Axes>"
            ],
            "image/png": "[encoded data removed]"
          },
          "metadata": {
            "needs_background": "light"
          }
        }
      ]
    },
    {
      "cell_type": "code",
      "metadata": {
        "id": "EvDmfy-Rh_Rc"
      },
      "source": [
        "def accuracy(y_true, y_pred):\n",
        "    y_max = np.argmax(y_true, axis=1)\n",
        "    y_pr = np.argmax(y_pred, axis=1)\n",
        "    return np.sum(y_max == y_pr) / y_true.shape[0]"
      ],
      "execution_count": 81,
      "outputs": []
    },
    {
      "cell_type": "code",
      "metadata": {
        "colab": {
          "base_uri": "https://localhost:8080/"
        },
        "id": "7HydUZA-iPfy",
        "outputId": "df24fd0c-3b75-4b71-a0a6-816912eeacb4"
      },
      "source": [
        "print(accuracy(model.forward(X), Y))"
      ],
      "execution_count": 82,
      "outputs": [
        {
          "output_type": "stream",
          "name": "stdout",
          "text": [
            "0.999\n"
          ]
        }
      ]
    },
    {
      "cell_type": "markdown",
      "metadata": {
        "id": "tmqQxNhFocXS"
      },
      "source": [
        "## Now MNIST - real-life problem"
      ]
    },
    {
      "cell_type": "code",
      "metadata": {
        "id": "BRYIbyvzocXT"
      },
      "source": [
        "import os\n",
        "from sklearn.datasets import fetch_openml\n",
        "\n",
        "if os.path.exists('mnist.npz'):\n",
        "    with np.load('mnist.npz', 'r') as data:\n",
        "        X = data['X']\n",
        "        y = data['y']\n",
        "else:\n",
        "    mnist = fetch_openml(\"mnist_784\")\n",
        "    # очень важно его отнормировать -- см. Linear в hw_framework\n",
        "    X = mnist.data / 255.0\n",
        "    y = mnist.target\n",
        "    np.savez('mnist.npz', X=X, y=y)"
      ],
      "execution_count": 45,
      "outputs": []
    },
    {
      "cell_type": "code",
      "metadata": {
        "colab": {
          "base_uri": "https://localhost:8080/"
        },
        "id": "BmEiUaS9220w",
        "outputId": "85b8a709-959a-4096-f85d-10f18736f9bb"
      },
      "source": [
        "import pandas as pd\n",
        "y"
      ],
      "execution_count": 46,
      "outputs": [
        {
          "output_type": "execute_result",
          "data": {
            "text/plain": [
              "0        5\n",
              "1        0\n",
              "2        4\n",
              "3        1\n",
              "4        9\n",
              "        ..\n",
              "69995    2\n",
              "69996    3\n",
              "69997    4\n",
              "69998    5\n",
              "69999    6\n",
              "Name: class, Length: 70000, dtype: category\n",
              "Categories (10, object): ['0', '1', '2', '3', ..., '6', '7', '8', '9']"
            ]
          },
          "metadata": {},
          "execution_count": 46
        }
      ]
    },
    {
      "cell_type": "code",
      "metadata": {
        "id": "A0n63WKSocXc",
        "colab": {
          "base_uri": "https://localhost:8080/",
          "height": 423
        },
        "outputId": "1a80325a-37ba-432a-db26-786b1569b8e1"
      },
      "source": [
        "y_ = pd.get_dummies(y, columns=['y'])\n",
        "y_"
      ],
      "execution_count": 47,
      "outputs": [
        {
          "output_type": "execute_result",
          "data": {
            "text/plain": [
              "       0  1  2  3  4  5  6  7  8  9\n",
              "0      0  0  0  0  0  1  0  0  0  0\n",
              "1      1  0  0  0  0  0  0  0  0  0\n",
              "2      0  0  0  0  1  0  0  0  0  0\n",
              "3      0  1  0  0  0  0  0  0  0  0\n",
              "4      0  0  0  0  0  0  0  0  0  1\n",
              "...   .. .. .. .. .. .. .. .. .. ..\n",
              "69995  0  0  1  0  0  0  0  0  0  0\n",
              "69996  0  0  0  1  0  0  0  0  0  0\n",
              "69997  0  0  0  0  1  0  0  0  0  0\n",
              "69998  0  0  0  0  0  1  0  0  0  0\n",
              "69999  0  0  0  0  0  0  1  0  0  0\n",
              "\n",
              "[70000 rows x 10 columns]"
            ],
            "text/html": [
              "\n",
              "  <div id=\"df-23da80f8-da79-423b-8670-d518d64497e3\">\n",
              "    <div class=\"colab-df-container\">\n",
              "      <div>\n",
              "<style scoped>\n",
              "    .dataframe tbody tr th:only-of-type {\n",
              "        vertical-align: middle;\n",
              "    }\n",
              "\n",
              "    .dataframe tbody tr th {\n",
              "        vertical-align: top;\n",
              "    }\n",
              "\n",
              "    .dataframe thead th {\n",
              "        text-align: right;\n",
              "    }\n",
              "</style>\n",
              "<table border=\"1\" class=\"dataframe\">\n",
              "  <thead>\n",
              "    <tr style=\"text-align: right;\">\n",
              "      <th></th>\n",
              "      <th>0</th>\n",
              "      <th>1</th>\n",
              "      <th>2</th>\n",
              "      <th>3</th>\n",
              "      <th>4</th>\n",
              "      <th>5</th>\n",
              "      <th>6</th>\n",
              "      <th>7</th>\n",
              "      <th>8</th>\n",
              "      <th>9</th>\n",
              "    </tr>\n",
              "  </thead>\n",
              "  <tbody>\n",
              "    <tr>\n",
              "      <th>0</th>\n",
              "      <td>0</td>\n",
              "      <td>0</td>\n",
              "      <td>0</td>\n",
              "      <td>0</td>\n",
              "      <td>0</td>\n",
              "      <td>1</td>\n",
              "      <td>0</td>\n",
              "      <td>0</td>\n",
              "      <td>0</td>\n",
              "      <td>0</td>\n",
              "    </tr>\n",
              "    <tr>\n",
              "      <th>1</th>\n",
              "      <td>1</td>\n",
              "      <td>0</td>\n",
              "      <td>0</td>\n",
              "      <td>0</td>\n",
              "      <td>0</td>\n",
              "      <td>0</td>\n",
              "      <td>0</td>\n",
              "      <td>0</td>\n",
              "      <td>0</td>\n",
              "      <td>0</td>\n",
              "    </tr>\n",
              "    <tr>\n",
              "      <th>2</th>\n",
              "      <td>0</td>\n",
              "      <td>0</td>\n",
              "      <td>0</td>\n",
              "      <td>0</td>\n",
              "      <td>1</td>\n",
              "      <td>0</td>\n",
              "      <td>0</td>\n",
              "      <td>0</td>\n",
              "      <td>0</td>\n",
              "      <td>0</td>\n",
              "    </tr>\n",
              "    <tr>\n",
              "      <th>3</th>\n",
              "      <td>0</td>\n",
              "      <td>1</td>\n",
              "      <td>0</td>\n",
              "      <td>0</td>\n",
              "      <td>0</td>\n",
              "      <td>0</td>\n",
              "      <td>0</td>\n",
              "      <td>0</td>\n",
              "      <td>0</td>\n",
              "      <td>0</td>\n",
              "    </tr>\n",
              "    <tr>\n",
              "      <th>4</th>\n",
              "      <td>0</td>\n",
              "      <td>0</td>\n",
              "      <td>0</td>\n",
              "      <td>0</td>\n",
              "      <td>0</td>\n",
              "      <td>0</td>\n",
              "      <td>0</td>\n",
              "      <td>0</td>\n",
              "      <td>0</td>\n",
              "      <td>1</td>\n",
              "    </tr>\n",
              "    <tr>\n",
              "      <th>...</th>\n",
              "      <td>...</td>\n",
              "      <td>...</td>\n",
              "      <td>...</td>\n",
              "      <td>...</td>\n",
              "      <td>...</td>\n",
              "      <td>...</td>\n",
              "      <td>...</td>\n",
              "      <td>...</td>\n",
              "      <td>...</td>\n",
              "      <td>...</td>\n",
              "    </tr>\n",
              "    <tr>\n",
              "      <th>69995</th>\n",
              "      <td>0</td>\n",
              "      <td>0</td>\n",
              "      <td>1</td>\n",
              "      <td>0</td>\n",
              "      <td>0</td>\n",
              "      <td>0</td>\n",
              "      <td>0</td>\n",
              "      <td>0</td>\n",
              "      <td>0</td>\n",
              "      <td>0</td>\n",
              "    </tr>\n",
              "    <tr>\n",
              "      <th>69996</th>\n",
              "      <td>0</td>\n",
              "      <td>0</td>\n",
              "      <td>0</td>\n",
              "      <td>1</td>\n",
              "      <td>0</td>\n",
              "      <td>0</td>\n",
              "      <td>0</td>\n",
              "      <td>0</td>\n",
              "      <td>0</td>\n",
              "      <td>0</td>\n",
              "    </tr>\n",
              "    <tr>\n",
              "      <th>69997</th>\n",
              "      <td>0</td>\n",
              "      <td>0</td>\n",
              "      <td>0</td>\n",
              "      <td>0</td>\n",
              "      <td>1</td>\n",
              "      <td>0</td>\n",
              "      <td>0</td>\n",
              "      <td>0</td>\n",
              "      <td>0</td>\n",
              "      <td>0</td>\n",
              "    </tr>\n",
              "    <tr>\n",
              "      <th>69998</th>\n",
              "      <td>0</td>\n",
              "      <td>0</td>\n",
              "      <td>0</td>\n",
              "      <td>0</td>\n",
              "      <td>0</td>\n",
              "      <td>1</td>\n",
              "      <td>0</td>\n",
              "      <td>0</td>\n",
              "      <td>0</td>\n",
              "      <td>0</td>\n",
              "    </tr>\n",
              "    <tr>\n",
              "      <th>69999</th>\n",
              "      <td>0</td>\n",
              "      <td>0</td>\n",
              "      <td>0</td>\n",
              "      <td>0</td>\n",
              "      <td>0</td>\n",
              "      <td>0</td>\n",
              "      <td>1</td>\n",
              "      <td>0</td>\n",
              "      <td>0</td>\n",
              "      <td>0</td>\n",
              "    </tr>\n",
              "  </tbody>\n",
              "</table>\n",
              "<p>70000 rows × 10 columns</p>\n",
              "</div>\n",
              "      <button class=\"colab-df-convert\" onclick=\"convertToInteractive('df-23da80f8-da79-423b-8670-d518d64497e3')\"\n",
              "              title=\"Convert this dataframe to an interactive table.\"\n",
              "              style=\"display:none;\">\n",
              "        \n",
              "  <svg xmlns=\"http://www.w3.org/2000/svg\" height=\"24px\"viewBox=\"0 0 24 24\"\n",
              "       width=\"24px\">\n",
              "    <path d=\"M0 0h24v24H0V0z\" fill=\"none\"/>\n",
              "    <path d=\"M18.56 5.44l.94 2.06.94-2.06 2.06-.94-2.06-.94-.94-2.06-.94 2.06-2.06.94zm-11 1L8.5 8.5l.94-2.06 2.06-.94-2.06-.94L8.5 2.5l-.94 2.06-2.06.94zm10 10l.94 2.06.94-2.06 2.06-.94-2.06-.94-.94-2.06-.94 2.06-2.06.94z\"/><path d=\"M17.41 7.96l-1.37-1.37c-.4-.4-.92-.59-1.43-.59-.52 0-1.04.2-1.43.59L10.3 9.45l-7.72 7.72c-.78.78-.78 2.05 0 2.83L4 21.41c.39.39.9.59 1.41.59.51 0 1.02-.2 1.41-.59l7.78-7.78 2.81-2.81c.8-.78.8-2.07 0-2.86zM5.41 20L4 18.59l7.72-7.72 1.47 1.35L5.41 20z\"/>\n",
              "  </svg>\n",
              "      </button>\n",
              "      \n",
              "  <style>\n",
              "    .colab-df-container {\n",
              "      display:flex;\n",
              "      flex-wrap:wrap;\n",
              "      gap: 12px;\n",
              "    }\n",
              "\n",
              "    .colab-df-convert {\n",
              "      background-color: #E8F0FE;\n",
              "      border: none;\n",
              "      border-radius: 50%;\n",
              "      cursor: pointer;\n",
              "      display: none;\n",
              "      fill: #1967D2;\n",
              "      height: 32px;\n",
              "      padding: 0 0 0 0;\n",
              "      width: 32px;\n",
              "    }\n",
              "\n",
              "    .colab-df-convert:hover {\n",
              "      background-color: #E2EBFA;\n",
              "      box-shadow: 0px 1px 2px rgba(60, 64, 67, 0.3), 0px 1px 3px 1px rgba(60, 64, 67, 0.15);\n",
              "      fill: #174EA6;\n",
              "    }\n",
              "\n",
              "    [theme=dark] .colab-df-convert {\n",
              "      background-color: #3B4455;\n",
              "      fill: #D2E3FC;\n",
              "    }\n",
              "\n",
              "    [theme=dark] .colab-df-convert:hover {\n",
              "      background-color: #434B5C;\n",
              "      box-shadow: 0px 1px 3px 1px rgba(0, 0, 0, 0.15);\n",
              "      filter: drop-shadow(0px 1px 2px rgba(0, 0, 0, 0.3));\n",
              "      fill: #FFFFFF;\n",
              "    }\n",
              "  </style>\n",
              "\n",
              "      <script>\n",
              "        const buttonEl =\n",
              "          document.querySelector('#df-23da80f8-da79-423b-8670-d518d64497e3 button.colab-df-convert');\n",
              "        buttonEl.style.display =\n",
              "          google.colab.kernel.accessAllowed ? 'block' : 'none';\n",
              "\n",
              "        async function convertToInteractive(key) {\n",
              "          const element = document.querySelector('#df-23da80f8-da79-423b-8670-d518d64497e3');\n",
              "          const dataTable =\n",
              "            await google.colab.kernel.invokeFunction('convertToInteractive',\n",
              "                                                     [key], {});\n",
              "          if (!dataTable) return;\n",
              "\n",
              "          const docLinkHtml = 'Like what you see? Visit the ' +\n",
              "            '<a target=\"_blank\" href=https://colab.research.google.com/notebooks/data_table.ipynb>data table notebook</a>'\n",
              "            + ' to learn more about interactive tables.';\n",
              "          element.innerHTML = '';\n",
              "          dataTable['output_type'] = 'display_data';\n",
              "          await google.colab.output.renderOutput(dataTable, element);\n",
              "          const docLink = document.createElement('div');\n",
              "          docLink.innerHTML = docLinkHtml;\n",
              "          element.appendChild(docLink);\n",
              "        }\n",
              "      </script>\n",
              "    </div>\n",
              "  </div>\n",
              "  "
            ]
          },
          "metadata": {},
          "execution_count": 47
        }
      ]
    },
    {
      "cell_type": "markdown",
      "metadata": {
        "id": "d726biJBocXj"
      },
      "source": [
        " Train - validation split"
      ]
    },
    {
      "cell_type": "code",
      "metadata": {
        "id": "MHNybZzdzz2i"
      },
      "source": [
        "X_ = X.to_numpy()\n",
        "y_ = y_.to_numpy()"
      ],
      "execution_count": 48,
      "outputs": []
    },
    {
      "cell_type": "code",
      "metadata": {
        "id": "VDMMhl24ocXk"
      },
      "source": [
        "mask = np.random.permutation(np.arange(y.shape[0]))\n",
        "\n",
        "X_ = X_[mask]\n",
        "y_ = y_[mask]\n",
        "\n",
        "train_shape = 50000\n",
        "X_train, X_val = X_[:train_shape , :], X_[train_shape: , :]\n",
        "y_train, y_val = y_[:train_shape, :], y_[train_shape: , :]"
      ],
      "execution_count": 49,
      "outputs": []
    },
    {
      "cell_type": "markdown",
      "metadata": {
        "id": "Kf0JJJFC7z_p"
      },
      "source": [
        "## Fit"
      ]
    },
    {
      "cell_type": "code",
      "execution_count": 50,
      "outputs": [],
      "source": [
        "def accuracy_Xy(model, X, y_true):\n",
        "    model.eval()\n",
        "    y_pred = model.forward(X)\n",
        "    return accuracy(y_true, y_pred)"
      ],
      "metadata": {
        "pycharm": {
          "name": "#%%\n"
        },
        "id": "0umfroRl7T-l"
      }
    },
    {
      "cell_type": "code",
      "execution_count": 59,
      "outputs": [],
      "source": [
        "def block(input_size, output_size):\n",
        "    return Sequential(\n",
        "        Linear(input_size, output_size),\n",
        "        LeakyReLU()\n",
        "    )"
      ],
      "metadata": {
        "pycharm": {
          "name": "#%%\n"
        },
        "id": "diP4LBgy7T-m"
      }
    },
    {
      "cell_type": "code",
      "execution_count": 60,
      "outputs": [],
      "source": [
        "def seq_by_sizes(sizes):\n",
        "    ans = []\n",
        "    for i in range(len(sizes) - 2):\n",
        "        for j in block(sizes[i - 1], sizes[i]):\n",
        "            ans.append(j)\n",
        "\n",
        "    ans.append(Linear(sizes[-2], sizes[-1]))\n",
        "    ans.append(SoftMax())\n",
        "\n",
        "    return Sequential(ans)"
      ],
      "metadata": {
        "pycharm": {
          "name": "#%%\n"
        },
        "id": "sREsxu4d7T-m"
      }
    },
    {
      "cell_type": "code",
      "metadata": {
        "id": "Kxx9Iu9C7zGX"
      },
      "source": [
        "model = Sequential(\n",
        "    block(784, 500),\n",
        "    block(500, 200),\n",
        "    block(200, 50),\n",
        "    block(50, 25),\n",
        "\n",
        "    Linear(25, 10),\n",
        "    SoftMax()\n",
        ")\n",
        "\n",
        "criterion = CrossEntropy()\n",
        "optimizer = Adam(learning_rate_init=1e-3)"
      ],
      "execution_count": 68,
      "outputs": []
    },
    {
      "cell_type": "code",
      "metadata": {
        "id": "XTxevuGy8aiW"
      },
      "source": [
        "epochs = 5\n",
        "batch_size = 128"
      ],
      "execution_count": 69,
      "outputs": []
    },
    {
      "cell_type": "code",
      "metadata": {
        "colab": {
          "base_uri": "https://localhost:8080/",
          "height": 469
        },
        "id": "yT4VbQAX8a4A",
        "outputId": "c9fb9e7f-778b-43c8-9d1b-4a7d84141dd9",
        "pycharm": {
          "is_executing": true
        }
      },
      "source": [
        "history = []\n",
        "\n",
        "for i in range(epochs):\n",
        "    for x, y_true in loader(X_train, y_train, batch_size):\n",
        "        model.train()\n",
        "\n",
        "        y_pred = model.forward(x)\n",
        "        loss = criterion.forward(y_pred, y_true)\n",
        "\n",
        "        grad = criterion.backward(y_pred, y_true)\n",
        "        model.backward(x, grad)\n",
        "\n",
        "        grad_clipping(model.grad_parameters(), max_clip=0.4)\n",
        "        optimizer.step(model.parameters(),\n",
        "                       model.grad_parameters())\n",
        "\n",
        "        history.append(- criterion_xy_loss(model, x, y_true))\n",
        "    print('acc', accuracy_Xy(model, X_train, y_train))\n",
        "    print('loss', - criterion_xy_loss(model, X_train, y_train))\n",
        "plt.title(\"Training loss\")\n",
        "plt.xlabel(\"iteration\")\n",
        "plt.ylabel(\"loss\")\n",
        "plt.plot(history, 'b')\n",
        "plt.show()"
      ],
      "execution_count": 70,
      "outputs": [
        {
          "output_type": "stream",
          "name": "stdout",
          "text": [
            "acc 0.9457\n",
            "loss 0.20460850545850212\n",
            "acc 0.96194\n",
            "loss 0.14278487371092333\n",
            "acc 0.97214\n",
            "loss 0.10688100827806823\n",
            "acc 0.98116\n",
            "loss 0.07694749715252273\n",
            "acc 0.98562\n",
            "loss 0.058771021849013616\n"
          ]
        },
        {
          "output_type": "display_data",
          "data": {
            "text/plain": [
              "<Figure size 432x288 with 1 Axes>"
            ],
            "image/png": "[encoded data removed]"
          },
          "metadata": {
            "needs_background": "light"
          }
        }
      ]
    },
    {
      "cell_type": "code",
      "metadata": {
        "colab": {
          "base_uri": "https://localhost:8080/"
        },
        "id": "NwRf6py4aUOB",
        "outputId": "55928096-bed7-40c6-ecda-7a4ce6f7a6d7"
      },
      "source": [
        "print(np.argmax(model.forward(X_train), axis=1)[:30])\n",
        "print(np.argmax(y_train, axis=1)[:30])\n",
        "# y_pr = np.argmax(y_pred, axis=1)"
      ],
      "execution_count": 71,
      "outputs": [
        {
          "output_type": "stream",
          "name": "stdout",
          "text": [
            "[9 4 9 5 9 6 8 8 7 3 9 0 2 6 3 3 1 2 7 1 8 8 6 2 6 2 5 6 9 8]\n",
            "[9 4 9 5 9 6 8 8 7 3 9 0 2 6 3 3 1 2 7 1 8 8 6 2 6 2 5 6 9 8]\n"
          ]
        }
      ]
    },
    {
      "cell_type": "markdown",
      "source": [
        "Seems good"
      ],
      "metadata": {
        "id": "ePpsNeWUG0nN"
      }
    }
  ]
}
